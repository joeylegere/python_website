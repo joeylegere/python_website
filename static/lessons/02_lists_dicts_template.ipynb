{
 "cells": [
  {
   "cell_type": "markdown",
   "metadata": {},
   "source": [
    "## <center>PSYCH 712: Introduction to Python </center>\n",
    "## <center> Week 02-2: Collections Part 2</center>"
   ]
  },
  {
   "cell_type": "markdown",
   "metadata": {
    "collapsed": true
   },
   "source": [
    "Last time we started talking about *collections* of objects in Python: strings are a sequence of characters, and lists are a sequence of elements with arbitrary data types.\n",
    "\n",
    "Recall that we index strings and lists by the **position** of their elements:"
   ]
  },
  {
   "cell_type": "code",
   "execution_count": null,
   "metadata": {},
   "outputs": [],
   "source": []
  },
  {
   "cell_type": "code",
   "execution_count": null,
   "metadata": {},
   "outputs": [],
   "source": []
  },
  {
   "cell_type": "markdown",
   "metadata": {},
   "source": [
    "### A point about variable names\n",
    "\n",
    "It's tempting to just create a filler variable called \"list\" above. However, when you type list, notice its syntax gets highlighted:"
   ]
  },
  {
   "cell_type": "code",
   "execution_count": null,
   "metadata": {},
   "outputs": [],
   "source": []
  },
  {
   "cell_type": "markdown",
   "metadata": {},
   "source": [
    "It's generally not good practice to use built-in keywords as variable names, because then their meaning becomes ambiguous, and it can lead to confusing or erroneous code."
   ]
  },
  {
   "cell_type": "markdown",
   "metadata": {},
   "source": [
    "### Mutable vs. Immutable\n",
    "\n",
    "One nice thing about lists is we can change their elements arbitrarily:"
   ]
  },
  {
   "cell_type": "code",
   "execution_count": null,
   "metadata": {},
   "outputs": [],
   "source": []
  },
  {
   "cell_type": "markdown",
   "metadata": {},
   "source": [
    "The same is not true of strings:"
   ]
  },
  {
   "cell_type": "code",
   "execution_count": null,
   "metadata": {},
   "outputs": [],
   "source": []
  },
  {
   "cell_type": "markdown",
   "metadata": {},
   "source": [
    "This is because strings are *immutable*, whereas lists are *mutable*. In this case, \"mutable\" comes from \"mutate\".\n",
    "\n",
    "Another type of collection is a **tuple**. Tuples are like lists, but immutable:"
   ]
  },
  {
   "cell_type": "code",
   "execution_count": null,
   "metadata": {},
   "outputs": [],
   "source": []
  },
  {
   "cell_type": "code",
   "execution_count": null,
   "metadata": {},
   "outputs": [],
   "source": []
  },
  {
   "cell_type": "markdown",
   "metadata": {},
   "source": [
    "This is all we need to know about tuples for this course--you may encounter them moving forward, but in many cases you can use a list instead of a tuple. There are instances where this is not true, but you will not encounter any in this course.\n",
    "\n",
    "Generally speaking, lists are more flexible, and we will be using them for every example going forward."
   ]
  },
  {
   "cell_type": "markdown",
   "metadata": {},
   "source": [
    "## <center>Alternative Loop Structures\n",
    "\n",
    "This section won't introduce any new concepts per se. We will mostly talk about different ways of doing what we've been doing, and tie some concepts together.\n",
    "\n",
    "### For loops through iterables:\n",
    "Alternative looping method: If we have a collection of objects (namely a string or a list), we can loop directly on the elements of the list, rather than in range(len(variable)):"
   ]
  },
  {
   "cell_type": "code",
   "execution_count": null,
   "metadata": {},
   "outputs": [],
   "source": []
  },
  {
   "cell_type": "code",
   "execution_count": null,
   "metadata": {},
   "outputs": [],
   "source": []
  },
  {
   "cell_type": "code",
   "execution_count": null,
   "metadata": {},
   "outputs": [],
   "source": []
  },
  {
   "cell_type": "markdown",
   "metadata": {},
   "source": [
    "Occasionally, you might be interested in both the *value* of a current element, as well as its position (eg. you only want to look at reaction times of every other trial). In this case, you can use the *enumerate* method:"
   ]
  },
  {
   "cell_type": "code",
   "execution_count": null,
   "metadata": {},
   "outputs": [],
   "source": []
  },
  {
   "cell_type": "markdown",
   "metadata": {},
   "source": [
    "## Example: Arithmetic Mean of a List\n",
    "\n",
    "The arithmetic mean of a series $x$ of $n$ numbers is defined as: $$ \\frac{1}{n} \\sum{x} $$.\n",
    "\n",
    "Write a function **arithmetic_mean(l)** that takes a non-empty list **l** and returns its arithmetic mean as a floating-point number."
   ]
  },
  {
   "cell_type": "code",
   "execution_count": null,
   "metadata": {},
   "outputs": [],
   "source": [
    "# Your code here."
   ]
  },
  {
   "cell_type": "code",
   "execution_count": null,
   "metadata": {},
   "outputs": [],
   "source": [
    "arithmetic_mean([5, 7, 9]) == 7.0"
   ]
  },
  {
   "cell_type": "code",
   "execution_count": null,
   "metadata": {},
   "outputs": [],
   "source": [
    "arithmetic_mean([3.2, 2.8]) == 3.0"
   ]
  },
  {
   "cell_type": "markdown",
   "metadata": {},
   "source": [
    "### While Loops\n",
    "\n",
    "So far all of our loops have been *through* a particular structure. However, occasionally we want to repeat the same code *until* an event happens. For instance: waiting for a specific keypress or until a participant has done a number of trials correctly in an experiment."
   ]
  },
  {
   "cell_type": "code",
   "execution_count": null,
   "metadata": {},
   "outputs": [],
   "source": []
  },
  {
   "cell_type": "markdown",
   "metadata": {},
   "source": [
    "One challenge with while loops is that it is much easier to accidentally get stuck in an infinite loop. In Jupyter, when you see `In [ * ]` beside a code cell, that means that cell is currently doing some sort of computation--if it is taking too long, this could mean one of three things:\n",
    "<ol>\n",
    "<li> Your code is stuck in an infinite loop.\n",
    "<li> Your algorithm is inefficient, and could be improved (see prime numbers example).\n",
    "<li> You have a really computationally intense problem (eg, independent components analysis, deep learning).\n",
    "</ol>\n",
    "\n",
    "If you have a code cell stuck in an infinite loop, Jupyter will not be able to run any other code cells. You will need to restart or interrupt the kernel. In Jupyter, you can think of the kernel as the fundamental program that is running your Python code, and it can only do one thing at a time.\n",
    "\n",
    "##### Aside: Why can Jupyter only run one code cell at a time?\n",
    "The short answer? Think about what would happen if you had two cells that were both simultaneously trying to change the same variable.\n",
    "\n",
    "This gets into the territory of parallel programming, or making a computer do more than one thing at once. Every program we write in this course will run in serial (we will only let the computer do one thing at a time). If there is interest, we can have a demo on very basic parallel programming in Python--it's a useful skill for computationally complex problems, because using 4 CPUs can make your code run *about* (but not quite) 4 times faster."
   ]
  },
  {
   "cell_type": "code",
   "execution_count": null,
   "metadata": {},
   "outputs": [],
   "source": []
  },
  {
   "cell_type": "code",
   "execution_count": null,
   "metadata": {},
   "outputs": [],
   "source": []
  },
  {
   "cell_type": "markdown",
   "metadata": {},
   "source": [
    "## Example: The Fibonacci Sequence\n",
    "\n",
    "The Fibonacci sequence is a sequence of numbers that starts with [1, 1], and each next number is the sum of the previous two.\n",
    "\n",
    "Write a program that, given a number N, calculates the first N terms of the fibonacci sequence and returns them as a list.\n",
    "\n",
    "You may assume that $ n \\geq 2 $\n",
    "\n",
    "(This example uses a while loop--you can do this as a for loop, but this is a case where a while loop makes more sense)"
   ]
  },
  {
   "cell_type": "code",
   "execution_count": null,
   "metadata": {},
   "outputs": [],
   "source": []
  },
  {
   "cell_type": "code",
   "execution_count": null,
   "metadata": {},
   "outputs": [],
   "source": [
    "fib(10) == [1, 1, 2, 3, 5, 8, 13, 21, 34, 55]"
   ]
  },
  {
   "cell_type": "code",
   "execution_count": null,
   "metadata": {},
   "outputs": [],
   "source": [
    "fib(15) == [1, 1, 2, 3, 5, 8, 13, 21, 34, 55, 89, 144, 233, 377, 610]"
   ]
  },
  {
   "cell_type": "markdown",
   "metadata": {},
   "source": [
    "### In-class exercise 6: Fibonacci Sequence II\n",
    "\n",
    "Write a function `inclass6(n)` that counts the number of terms needed for the sum of the fibonacci sequence to reach `n`.\n",
    "\n",
    "For instance, to reach a sum of at least 6, you need 4 terms [1, 1, 2, 3].\n",
    "\n",
    "To reach a sum of 10, you need 5 terms: [1, 1, 2, 3, 5]"
   ]
  },
  {
   "cell_type": "code",
   "execution_count": null,
   "metadata": {},
   "outputs": [],
   "source": [
    "# Your code here."
   ]
  },
  {
   "cell_type": "code",
   "execution_count": null,
   "metadata": {},
   "outputs": [],
   "source": [
    "inclass6(100) == 10"
   ]
  },
  {
   "cell_type": "code",
   "execution_count": null,
   "metadata": {},
   "outputs": [],
   "source": [
    "inclass6(1000)== 15"
   ]
  },
  {
   "cell_type": "code",
   "execution_count": null,
   "metadata": {},
   "outputs": [],
   "source": [
    "inclass6(1) == 1"
   ]
  },
  {
   "cell_type": "markdown",
   "metadata": {},
   "source": [
    "## <center>Dictionaries\n",
    "\n",
    "There are circumstances where it doesn't make sense to index data by its position in a sequence--we might want to look something up by a more descriptive label.\n",
    "\n",
    "Dictionaries work by mapping a *key* to a particular *value*. Keys can be (almost) anything--but we'll only really use strings and integers. \n",
    "\n",
    "(Technically, the key needs to be immutable--so we can't use a list, but we can use a tuple).\n",
    "\n",
    "Dictionaries can be used in a lot of contexts:\n",
    "<br> Student names      -> grades\n",
    "<br> Participant number -> condition\n",
    "<br> Web address        -> server IP address\n",
    "\n",
    "\n",
    "Dictionaries are defined using curly braces: {}\n"
   ]
  },
  {
   "cell_type": "code",
   "execution_count": null,
   "metadata": {},
   "outputs": [],
   "source": []
  },
  {
   "cell_type": "code",
   "execution_count": null,
   "metadata": {},
   "outputs": [],
   "source": []
  },
  {
   "cell_type": "code",
   "execution_count": null,
   "metadata": {},
   "outputs": [],
   "source": []
  },
  {
   "cell_type": "code",
   "execution_count": null,
   "metadata": {},
   "outputs": [],
   "source": []
  },
  {
   "cell_type": "code",
   "execution_count": null,
   "metadata": {},
   "outputs": [],
   "source": [
    "example_dictionary = {\n",
    "    'key': 'value',\n",
    "    1: 'A',\n",
    "    2: 'B',\n",
    "    'cat': 'dog',\n",
    "    'trials': [313, 414, \"penguin\"],\n",
    "    'user': 'password'\n",
    "}"
   ]
  },
  {
   "cell_type": "code",
   "execution_count": null,
   "metadata": {},
   "outputs": [],
   "source": []
  },
  {
   "cell_type": "markdown",
   "metadata": {},
   "source": [
    "We index a dictionary by is keys, rather than any particular number:"
   ]
  },
  {
   "cell_type": "code",
   "execution_count": null,
   "metadata": {},
   "outputs": [],
   "source": []
  },
  {
   "cell_type": "code",
   "execution_count": null,
   "metadata": {},
   "outputs": [],
   "source": []
  },
  {
   "cell_type": "code",
   "execution_count": null,
   "metadata": {},
   "outputs": [],
   "source": []
  },
  {
   "cell_type": "markdown",
   "metadata": {},
   "source": [
    "## Example: A Terrible Login Form\n",
    "\n",
    "Write a Python function, `auth(u, p, d)` that takes in a username, password, and dictionary mapping usernames to passwords. The function should return True if the user logs in successfully, and False otherwise."
   ]
  },
  {
   "cell_type": "code",
   "execution_count": null,
   "metadata": {},
   "outputs": [],
   "source": [
    "# Your code here."
   ]
  },
  {
   "cell_type": "code",
   "execution_count": null,
   "metadata": {},
   "outputs": [],
   "source": [
    "db = {'joey': 'secret', 'user': 'password', 'AzureDiamond': 'hunter2'}  # bash.org/?244321\n",
    "\n",
    "auth('joey', 'secret', db)"
   ]
  },
  {
   "cell_type": "code",
   "execution_count": null,
   "metadata": {},
   "outputs": [],
   "source": [
    "not auth('joey', 'password', db)"
   ]
  },
  {
   "cell_type": "markdown",
   "metadata": {},
   "source": [
    "## Example: Formatting Dates\n",
    "\n",
    "Given three numbers: year, month, and day, create the corresponding string.\n",
    "\n",
    "e.g. for 2017, 5, 11, produce \"May 11, 2017\""
   ]
  },
  {
   "cell_type": "code",
   "execution_count": null,
   "metadata": {},
   "outputs": [],
   "source": [
    "# Your code here."
   ]
  },
  {
   "cell_type": "code",
   "execution_count": null,
   "metadata": {},
   "outputs": [],
   "source": [
    "format_date(2017, 5, 11) == 'May 11, 2017'"
   ]
  },
  {
   "cell_type": "code",
   "execution_count": null,
   "metadata": {},
   "outputs": [],
   "source": [
    "format_date(2016, 2, 29) == 'February 29, 2016'"
   ]
  },
  {
   "cell_type": "markdown",
   "metadata": {},
   "source": [
    "## Example: Translating a Sequence\n",
    "\n",
    "Sometimes it makes sense to encode trials by specific numbers: for instance, in an EEG experiment, you might be limited by your hardware into only sending triggers as 8-bit integers (a number from 0-255).\n",
    "\n",
    "Suppose you're given two variables:\n",
    "<br> A sequence of trials (a list of integers)\n",
    "<br> A dictionary mapping inegers -> human readable strings. e.g. 23 maps to \"incongruent red\"\n",
    "\n",
    "Write a Python function that returns a list of human-readable output."
   ]
  },
  {
   "cell_type": "code",
   "execution_count": null,
   "metadata": {},
   "outputs": [],
   "source": [
    "# Method 1: Make an empty list, then loop through the list of trials and continue to grow our new list\n",
    "# by adding the string version of the trial types.\n",
    "  \n",
    "    \n",
    "# Method 2: Just swap out elements as you go"
   ]
  },
  {
   "cell_type": "code",
   "execution_count": null,
   "metadata": {},
   "outputs": [],
   "source": [
    "# A digit stroop task.\n",
    "\n",
    "trials = [11, 32, 35, 51, 61, 23, 25]\n",
    "stim_types = {11: \"1\", 32: \"2 2 2\", 35: \"5 5 5\", 51: \"1 1 1 1 1\", 61: \"1 1 1 1 1 1\", 23: \"3 3\", 25: \"5 5\"}\n",
    "\n",
    "translate(trials, stim_types) == ['1', '2 2 2', '5 5 5', '1 1 1 1 1', '1 1 1 1 1 1', '3 3', '5 5']"
   ]
  },
  {
   "cell_type": "markdown",
   "metadata": {},
   "source": [
    "## In-Class Exercise 7: Substitution Cipher\n",
    "\n",
    "In a substitution cipher, letters and symbols are swapped with other ones in order to obfuscate a message.\n",
    "<br> For example, the string \"a b c\" with a dictionary {\"a\":\"e\", \"b\":\"x\", \"c\":\"r\", \" \": \"%\"} would become encrypted as \"e%x%r\".\n",
    "\n",
    "<br> Given a ciphertext, `c`, and a cipher, `d`, write a function `inclass7(c, d)` that decrypts the secret message."
   ]
  },
  {
   "cell_type": "code",
   "execution_count": null,
   "metadata": {},
   "outputs": [],
   "source": []
  },
  {
   "cell_type": "code",
   "execution_count": null,
   "metadata": {},
   "outputs": [],
   "source": [
    "ciphertext = '\\\\j,wj%st%xywfsljwx%yt%qt{j\\x0f^tz%pst|%ymj%wzqjx%fsi%xt%it%N\\x0fF%kzqq%htrrnyrjsy,x%|mfy%N,r%ymnspnsl%tk\\x0f^tz%|tzqis,y%ljy%ymnx%kwtr%fs~%tymjw%lz~\\x0fN%ozxy%|fsy%yt%yjqq%~tz%mt|%N,r%kjjqnsl\\x0fLtyyf%rfpj%~tz%zsijwxyfsi\\x0fSj{jw%ltssf%ln{j%~tz%zu1%sj{jw%ltssf%qjy%~tz%it|s\\x0fSj{jw%ltssf%wzs%fwtzsi%fsi%ijxjwy%~tz\\x0fSj{jw%ltssf%rfpj%~tz%hw~1%sj{jw%ltssf%xf~%lttig~j\\x0fSj{jw%ltssf%yjqq%f%qnj%fsi%mzwy%~tz'\n",
    "\n",
    "decryption_key = {'\\n': 'z', '\\x0b': '{', '\\x0c': '|', '\\r': '}', '\\x0e': '~', '\\x0f': '\\n', '\\x10': '\\x0b',\n",
    "                  '\\x11': '\\x0c', '\\x12': '\\r', '\\x13': '\\x0e', '\\x14': '\\x0f', '\\x15': '\\x10', '\\x16': '\\x11',\n",
    "                  '\\x17': '\\x12', '\\x18': '\\x13', '\\x19': '\\x14', '\\x1a': '\\x15', '\\x1b': '\\x16', '\\x1c': '\\x17',\n",
    "                  '\\x1d': '\\x18', '\\x1e': '\\x19', '\\x1f': '\\x1a', ' ': '\\x1b', '!': '\\x1c', '\"': '\\x1d', '#': '\\x1e',\n",
    "                  '$': '\\x1f', '%': ' ', '&': '!', \"'\": '\"', '(': '#', ')': '$', '*': '%', '+': '&', ',': \"'\",\n",
    "                  '-': '(', '.': ')', '/': '*', '0': '+', '1': ',', '2': '-', '3': '.', '4': '/', '5': '0', '6': '1',\n",
    "                   '7': '2', '8': '3', '9': '4', ':': '5', ';': '6', '<': '7', '=': '8', '>': '9', '?': ':', '@': ';',\n",
    "                   'A': '<', 'B': '=', 'C': '>', 'D': '?', 'E': '@', 'F': 'A', 'G': 'B', 'H': 'C', 'I': 'D', 'J': 'E',\n",
    "                   'K': 'F', 'L': 'G', 'M': 'H', 'N': 'I', 'O': 'J', 'P': 'K', 'Q': 'L', 'R': 'M', 'S': 'N', 'T': 'O',\n",
    "                   'U': 'P', 'V': 'Q', 'W': 'R', 'X': 'S', 'Y': 'T', 'Z': 'U', '[': 'V', '\\\\': 'W', ']': 'X', '^': 'Y',\n",
    "                   '_': 'Z', '`': '[', 'a': '\\\\', 'b': ']', 'c': '^', 'd': '_', 'e': '`', 'f': 'a', 'g': 'b', 'h': 'c',\n",
    "                   'i': 'd', 'j': 'e', 'k': 'f', 'l': 'g', 'm': 'h', 'n': 'i', 'o': 'j', 'p': 'k', 'q': 'l', 'r': 'm',\n",
    "                   's': 'n', 't': 'o', 'u': 'p', 'v': 'q', 'w': 'r', 'x': 's', 'y': 't', 'z': 'u', '{': 'v', '|': 'w',\n",
    "                   '}': 'x', '~': 'y'}"
   ]
  },
  {
   "cell_type": "code",
   "execution_count": null,
   "metadata": {},
   "outputs": [],
   "source": [
    "print(inclass7(ciphertext, decryption_key))"
   ]
  },
  {
   "cell_type": "markdown",
   "metadata": {},
   "source": [
    "## <center>Splitting Strings\n",
    "\n",
    "Often we want to segment strings into units that make sense.\n",
    "\n",
    "In natural language processing we might want to turn a sentence it into a list of words so that we can look at word frequency, or look at patterns in speech: number of active vs. passive verbs, number of \"negative\" vs. \"positive\" words, etc. \n",
    "\n",
    "(Here's a super cool analysis of Donald Trump's tweets during his campaign using R: http://varianceexplained.org/r/trump-tweets/ ). If we were to preprocess the data in Python, we would take tweets, and change them from single strings into lists of words.\n",
    "\n",
    "The basic syntax to split a string `s` is to use `s.split()`"
   ]
  },
  {
   "cell_type": "code",
   "execution_count": null,
   "metadata": {},
   "outputs": [],
   "source": []
  },
  {
   "cell_type": "code",
   "execution_count": null,
   "metadata": {},
   "outputs": [],
   "source": []
  },
  {
   "cell_type": "markdown",
   "metadata": {},
   "source": [
    "We may also want to split a row of data, that is separated by commas. e.g."
   ]
  },
  {
   "cell_type": "code",
   "execution_count": null,
   "metadata": {},
   "outputs": [],
   "source": []
  },
  {
   "cell_type": "code",
   "execution_count": null,
   "metadata": {},
   "outputs": [],
   "source": []
  },
  {
   "cell_type": "markdown",
   "metadata": {},
   "source": [
    "## Example: Word Count\n",
    "\n",
    "Given a sentence, `s`, calculate the number of words in the sentence."
   ]
  },
  {
   "cell_type": "code",
   "execution_count": null,
   "metadata": {},
   "outputs": [],
   "source": []
  },
  {
   "cell_type": "code",
   "execution_count": null,
   "metadata": {},
   "outputs": [],
   "source": [
    "wordcount(\"This sentence has five words.\") == 5"
   ]
  },
  {
   "cell_type": "code",
   "execution_count": null,
   "metadata": {},
   "outputs": [],
   "source": [
    "wordcount(\"Here are five more words.\") == 5"
   ]
  },
  {
   "cell_type": "code",
   "execution_count": null,
   "metadata": {},
   "outputs": [],
   "source": [
    "wordcount(\"Five word sentences are fine.\") == 5"
   ]
  },
  {
   "cell_type": "markdown",
   "metadata": {},
   "source": [
    "## Example: Longest Word\n",
    "\n",
    "Given a sentence, s, find the longest word in the sentence.\n",
    "\n",
    "You will need two variables (or a list with two elements):\n",
    "<br>-One to keep track of the longest word.\n",
    "<br>-One to keep track of how long the longest word is.\n",
    "\n",
    "For the algorithm: loop through each word in the sentence. If it's longer than the previous longest word, then update your two variables accordingly.\n"
   ]
  },
  {
   "cell_type": "code",
   "execution_count": null,
   "metadata": {},
   "outputs": [],
   "source": []
  },
  {
   "cell_type": "markdown",
   "metadata": {},
   "source": [
    "Test cases courtesy of Michael Scott"
   ]
  },
  {
   "cell_type": "code",
   "execution_count": null,
   "metadata": {},
   "outputs": [],
   "source": [
    "longest(\"Toby works in HR, which technically means he works for corporate, so he's not really a part of our family.\") == \"technically\""
   ]
  },
  {
   "cell_type": "code",
   "execution_count": null,
   "metadata": {},
   "outputs": [],
   "source": [
    "longest(\"Also he's divorced so he's really not a part of his family\") == \"divorced\""
   ]
  },
  {
   "cell_type": "code",
   "execution_count": null,
   "metadata": {},
   "outputs": [],
   "source": [
    "longest(\"I have a cause. It is beCAUSE I hate him.\") == \"beCAUSE\""
   ]
  },
  {
   "cell_type": "markdown",
   "metadata": {},
   "source": [
    "## In Class Exercise 8\n",
    "\n",
    "Given a sentence, write a function `inclass8(s)` that computes the average word length in the sentence."
   ]
  },
  {
   "cell_type": "code",
   "execution_count": null,
   "metadata": {},
   "outputs": [],
   "source": [
    "# Your code here"
   ]
  },
  {
   "cell_type": "code",
   "execution_count": null,
   "metadata": {},
   "outputs": [],
   "source": [
    "inclass8(\"Skim milk is water that's lying about being milk\") == 40 / 9"
   ]
  },
  {
   "cell_type": "code",
   "execution_count": null,
   "metadata": {},
   "outputs": [],
   "source": [
    "inclass8(\"You had me at meat tornado\") == 3.5"
   ]
  },
  {
   "cell_type": "code",
   "execution_count": null,
   "metadata": {},
   "outputs": [],
   "source": [
    "inclass8(\"You've accidentally given me the food that my food eats.\") == 4.7"
   ]
  }
 ],
 "metadata": {
  "kernelspec": {
   "display_name": "Python 3",
   "language": "python",
   "name": "python3"
  },
  "language_info": {
   "codemirror_mode": {
    "name": "ipython",
    "version": 3
   },
   "file_extension": ".py",
   "mimetype": "text/x-python",
   "name": "python",
   "nbconvert_exporter": "python",
   "pygments_lexer": "ipython3",
   "version": "3.6.4"
  }
 },
 "nbformat": 4,
 "nbformat_minor": 2
}
