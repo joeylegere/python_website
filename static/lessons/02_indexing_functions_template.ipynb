{
 "cells": [
  {
   "cell_type": "markdown",
   "metadata": {},
   "source": [
    "## <center>PSYCH 712: Introduction to Python </center>\n",
    "## <center> Week 02-1: Functions, Strings</center>"
   ]
  },
  {
   "cell_type": "markdown",
   "metadata": {},
   "source": [
    "## Collections of Objects: Indexing\n",
    "So far, we've only been working with one data point at a time, stored in a single variable. Often, we want to store or manipulate much larger amounts of data (e.g. reaction times to all trials in an experiment, student grades, or words in a sentence).\n",
    "\n",
    "Python has a few data types that allow you to store multiple pieces of data in a single variable, but the three we'll be focusing on are **strings**, **lists**, and **dictionaries**.\n",
    "\n",
    "We've already seen strings, which are just a *collection* of individual characters in a specific order. If we're only interested in specific parts of a string, we can index the section we want:"
   ]
  },
  {
   "cell_type": "code",
   "execution_count": null,
   "metadata": {},
   "outputs": [],
   "source": []
  },
  {
   "cell_type": "markdown",
   "metadata": {},
   "source": [
    "We can also index from the back by using negative numbers:"
   ]
  },
  {
   "cell_type": "code",
   "execution_count": null,
   "metadata": {},
   "outputs": [],
   "source": []
  },
  {
   "cell_type": "markdown",
   "metadata": {},
   "source": [
    "Or, we can take a \"slice\" from the string:"
   ]
  },
  {
   "cell_type": "code",
   "execution_count": null,
   "metadata": {},
   "outputs": [],
   "source": []
  },
  {
   "cell_type": "raw",
   "metadata": {},
   "source": [
    "For reference, lined up by their positions:\n",
    "M o r e   c a t s .\n",
    "0 1 2 3 4 5 6 7 8 9"
   ]
  },
  {
   "cell_type": "code",
   "execution_count": null,
   "metadata": {},
   "outputs": [],
   "source": []
  },
  {
   "cell_type": "code",
   "execution_count": null,
   "metadata": {},
   "outputs": [],
   "source": []
  },
  {
   "cell_type": "code",
   "execution_count": null,
   "metadata": {},
   "outputs": [],
   "source": []
  },
  {
   "cell_type": "markdown",
   "metadata": {},
   "source": [
    "### Example: Forming Plural\n",
    "\n",
    "Write a Python function plural that pluralizes a word according to the rules:\n",
    "<ul>\n",
    "<li>If the word ends with s or h, add 'es'.\n",
    "<li>Otherwise, add 's'."
   ]
  },
  {
   "cell_type": "code",
   "execution_count": null,
   "metadata": {},
   "outputs": [],
   "source": [
    "def plural(s):\n",
    "    \n",
    "    # Your code here.\n",
    "    \n",
    "    return ps\n",
    "    "
   ]
  },
  {
   "cell_type": "code",
   "execution_count": null,
   "metadata": {},
   "outputs": [],
   "source": [
    "plural(\"narwhal\")"
   ]
  },
  {
   "cell_type": "code",
   "execution_count": null,
   "metadata": {},
   "outputs": [],
   "source": [
    "plural(\"match\")"
   ]
  },
  {
   "cell_type": "code",
   "execution_count": null,
   "metadata": {},
   "outputs": [],
   "source": [
    "plural(\"walrus\")"
   ]
  },
  {
   "cell_type": "markdown",
   "metadata": {},
   "source": [
    "Sometimes, we're interested if our collection of objects contains a particular object--for instance, a vowel inside of a word, a specific word in a sentence, or if a specific button has been pressed. <br>In Python, this reads like English:"
   ]
  },
  {
   "cell_type": "code",
   "execution_count": null,
   "metadata": {},
   "outputs": [],
   "source": []
  },
  {
   "cell_type": "code",
   "execution_count": null,
   "metadata": {},
   "outputs": [],
   "source": []
  },
  {
   "cell_type": "code",
   "execution_count": null,
   "metadata": {},
   "outputs": [],
   "source": []
  },
  {
   "cell_type": "code",
   "execution_count": null,
   "metadata": {},
   "outputs": [],
   "source": []
  },
  {
   "cell_type": "code",
   "execution_count": null,
   "metadata": {},
   "outputs": [],
   "source": []
  },
  {
   "cell_type": "code",
   "execution_count": null,
   "metadata": {},
   "outputs": [],
   "source": []
  },
  {
   "cell_type": "markdown",
   "metadata": {},
   "source": [
    "The len() function can be used to determine the length of a string, list, or dictionary. We can use this to easily loop through the object:"
   ]
  },
  {
   "cell_type": "code",
   "execution_count": null,
   "metadata": {},
   "outputs": [],
   "source": []
  },
  {
   "cell_type": "code",
   "execution_count": null,
   "metadata": {},
   "outputs": [],
   "source": []
  },
  {
   "cell_type": "code",
   "execution_count": null,
   "metadata": {},
   "outputs": [],
   "source": []
  },
  {
   "cell_type": "markdown",
   "metadata": {},
   "source": [
    "### Example: Shortening Sentences\n",
    "In an ongoing effort to communicate more efficiently, you decide to remove all lowercase vowels from your messages moving forward. However, you decide to leave the uppercase ones in--if you took the effort to capitalize them in the first place, they must be crucial to the integrity of your sentence.\n",
    "\n",
    "Write a Python function shorten(s) that takes an arbitrary string and removes all lowercase vowels."
   ]
  },
  {
   "cell_type": "code",
   "execution_count": null,
   "metadata": {},
   "outputs": [],
   "source": [
    "def shorten(s):\n",
    "    \n",
    "\n",
    "    return answer\n",
    "        "
   ]
  },
  {
   "cell_type": "code",
   "execution_count": null,
   "metadata": {},
   "outputs": [],
   "source": [
    "shorten(\"What is the airspeed veloicity of an unladen swallow?\") == 'Wht s th rspd vlcty f n nldn swllw?'"
   ]
  },
  {
   "cell_type": "code",
   "execution_count": null,
   "metadata": {},
   "outputs": [],
   "source": [
    "shorten(\"African or European swallow?\") == 'Afrcn r Erpn swllw?'"
   ]
  },
  {
   "cell_type": "code",
   "execution_count": null,
   "metadata": {},
   "outputs": [],
   "source": [
    "shorten(\"\") == \"\""
   ]
  },
  {
   "cell_type": "markdown",
   "metadata": {},
   "source": [
    "### In-Class Exercise 3\n",
    "\n",
    "Write a Python function that counts the number of vowels in a given string."
   ]
  },
  {
   "cell_type": "code",
   "execution_count": null,
   "metadata": {},
   "outputs": [],
   "source": [
    "def inclass3(s):\n",
    "    \n",
    "    # Your code here.\n",
    "            \n",
    "    return count\n",
    "            "
   ]
  },
  {
   "cell_type": "code",
   "execution_count": null,
   "metadata": {},
   "outputs": [],
   "source": [
    "inclass3(\"Life in plastic, it's fantastic\") == 9"
   ]
  },
  {
   "cell_type": "code",
   "execution_count": null,
   "metadata": {},
   "outputs": [],
   "source": [
    "inclass3(\"Deadly, when I play a dope melody, anything less than the best is a felony\") == 20"
   ]
  },
  {
   "cell_type": "code",
   "execution_count": null,
   "metadata": {},
   "outputs": [],
   "source": [
    "inclass3(\"It's like RAAAIIIAIIIAN on your wedding day\") == 20"
   ]
  },
  {
   "cell_type": "markdown",
   "metadata": {},
   "source": [
    "## Lists\n",
    "\n",
    "Lists are a fundamental data type in Python. They are just an arrangement of items, stored in order in a single variable.\n",
    "\n",
    "Items in lists are separated by commas, and you can mix data types within a list (a list of strings, integers, and floating point numbers is fine).\n",
    "\n",
    "Indexing in lists works exactly as it does in strings:"
   ]
  },
  {
   "cell_type": "code",
   "execution_count": null,
   "metadata": {},
   "outputs": [],
   "source": []
  },
  {
   "cell_type": "code",
   "execution_count": null,
   "metadata": {},
   "outputs": [],
   "source": []
  },
  {
   "cell_type": "code",
   "execution_count": null,
   "metadata": {},
   "outputs": [],
   "source": []
  },
  {
   "cell_type": "code",
   "execution_count": null,
   "metadata": {},
   "outputs": [],
   "source": []
  },
  {
   "cell_type": "code",
   "execution_count": null,
   "metadata": {},
   "outputs": [],
   "source": []
  },
  {
   "cell_type": "markdown",
   "metadata": {},
   "source": [
    "### Example: Grading Multiple Choice\n",
    "\n",
    "Given two lists: A student's answers, and an answer key, determine the students overall grade. You may assume that the two lists are the same length."
   ]
  },
  {
   "cell_type": "code",
   "execution_count": null,
   "metadata": {},
   "outputs": [],
   "source": [
    "def grade(responses, answer_key):\n",
    "    \n",
    "    # Your code here.\n",
    "\n",
    "    return score"
   ]
  },
  {
   "cell_type": "code",
   "execution_count": null,
   "metadata": {},
   "outputs": [],
   "source": [
    "grade([\"A\", \"B\", \"C\", \"D\"], [\"A\", \"B\", \"C\", \"D\"]) == 4"
   ]
  },
  {
   "cell_type": "code",
   "execution_count": null,
   "metadata": {},
   "outputs": [],
   "source": [
    "grade([\"A\", \"B\", \"C\", \"D\"], [\"D\", \"C\", \"B\", \"A\"]) == 0"
   ]
  },
  {
   "cell_type": "code",
   "execution_count": null,
   "metadata": {},
   "outputs": [],
   "source": [
    "grade([\"A\", \"B\", \"B\", \"A\"], [\"A\", \"B\", \"A\", \"B\"]) == 2"
   ]
  },
  {
   "cell_type": "markdown",
   "metadata": {},
   "source": [
    "If we want to add to a list, we can use the append() method:"
   ]
  },
  {
   "cell_type": "code",
   "execution_count": null,
   "metadata": {},
   "outputs": [],
   "source": []
  },
  {
   "cell_type": "code",
   "execution_count": null,
   "metadata": {},
   "outputs": [],
   "source": []
  },
  {
   "cell_type": "markdown",
   "metadata": {},
   "source": [
    "### Example: Eliminating Outliers\n",
    "\n",
    "Given a list of RTs, remove any that are greater than 1000 ms or lower than 200ms."
   ]
  },
  {
   "cell_type": "code",
   "execution_count": null,
   "metadata": {},
   "outputs": [],
   "source": [
    "def remove_outliers(l):\n",
    "    \n",
    "    # Your code here.\n",
    "            \n",
    "    return output"
   ]
  },
  {
   "cell_type": "code",
   "execution_count": null,
   "metadata": {},
   "outputs": [],
   "source": [
    "remove_outliers([123.4, 268.8, 1232.3, 512.64, 640.52, 414.97]) == [268.8, 512.64, 640.52, 414.97]"
   ]
  },
  {
   "cell_type": "code",
   "execution_count": null,
   "metadata": {},
   "outputs": [],
   "source": [
    "remove_outliers([512.64, 468.98, 337.65, 918.24, 222.89]) == [512.64, 468.98, 337.65, 918.24, 222.89]"
   ]
  },
  {
   "cell_type": "markdown",
   "metadata": {},
   "source": [
    "### In-Class Exercise 4: Inner Product\n",
    "\n",
    "Write a function that calculates the inner product of two same length lists.\n",
    "\n",
    "For $x = [1, 2, 3, 4]$ and $ y = [5, 6, 7, 8]$, the inner product would be $ (1*5) + (2*6) + (3*7) + (4*8) $"
   ]
  },
  {
   "cell_type": "code",
   "execution_count": null,
   "metadata": {},
   "outputs": [],
   "source": [
    "def inclass4(x, y):\n",
    "    \n",
    "    # Your code here.\n",
    "\n",
    "    return s\n",
    "        "
   ]
  },
  {
   "cell_type": "code",
   "execution_count": null,
   "metadata": {},
   "outputs": [],
   "source": [
    "inclass4([1,2,3,4], [5,6,7,8]) == 70"
   ]
  },
  {
   "cell_type": "code",
   "execution_count": null,
   "metadata": {},
   "outputs": [],
   "source": [
    "inclass4(range(10), range(10)) == 285"
   ]
  },
  {
   "cell_type": "code",
   "execution_count": null,
   "metadata": {},
   "outputs": [],
   "source": [
    "inclass4(range(100,200,2), range(150, 250, 2)) == 1524200"
   ]
  },
  {
   "cell_type": "markdown",
   "metadata": {},
   "source": [
    "## Functions\n",
    "\n",
    "So far we've been ignoring the \"def\" and \"return\" statements in lab questions. These define custom functions, which can make complex code much more legible, by abstracting away extraneous details. \n",
    "\n",
    "Generally speaking, a function takes in one or more variables, performs some operation on them, and produces a result--not unlike a mathematical function.\n",
    "<br>e.g. For a math function, $$ f(x, y) = 3x + y^2 $$\n",
    "<br> We can calculate that $$ f(3, 2) = 13 $$\n",
    "\n",
    "Here x and y are our inputs, and 13 is the output. We can rewrite this function in Python:\n",
    "\n"
   ]
  },
  {
   "cell_type": "code",
   "execution_count": null,
   "metadata": {},
   "outputs": [],
   "source": []
  },
  {
   "cell_type": "markdown",
   "metadata": {},
   "source": [
    "Running the cell above does nothing obvious, because all we have done is *defined* the function x, but we haven't given it any input to work with. We can call it at any point now that it's been defined though:"
   ]
  },
  {
   "cell_type": "code",
   "execution_count": null,
   "metadata": {},
   "outputs": [],
   "source": []
  },
  {
   "cell_type": "markdown",
   "metadata": {},
   "source": [
    "After we've defined a function, we can use it to assign new variables:"
   ]
  },
  {
   "cell_type": "code",
   "execution_count": null,
   "metadata": {},
   "outputs": [],
   "source": []
  },
  {
   "cell_type": "markdown",
   "metadata": {},
   "source": [
    "The main purpose of functions is to improve legibility of code. Consider the following code snippet:"
   ]
  },
  {
   "cell_type": "code",
   "execution_count": null,
   "metadata": {},
   "outputs": [],
   "source": [
    "s = \"cat\"\n",
    "p = True\n",
    "for i in range(len(s)//2): \n",
    "    if s[i] != s[-i-1]:\n",
    "        p = False\n",
    "print(p)\n",
    "\n",
    "s = \"kayak\"\n",
    "p = True\n",
    "for i in range(len(s)//2): \n",
    "    if s[i] != s[-i-1]:\n",
    "        p = False\n",
    "print(p)\n",
    "\n",
    "s = \"racecar\"\n",
    "p = True\n",
    "for i in range(len(s)//2): \n",
    "    if s[i] != s[-i-1]:\n",
    "        p = False\n",
    "print(p)\n"
   ]
  },
  {
   "cell_type": "markdown",
   "metadata": {},
   "source": [
    "It's not very legible, and it looks like this section:\n",
    "<code>\n",
    "p = True\n",
    "for i in range(len(s)//2): \n",
    "    if s[i] != s[-i-1]:\n",
    "        p = False\n",
    "</code>\n",
    "\n",
    "Is copied several times. Generally, if you are looking to copy/paste code, it makes much more sense to write a function. Consider the following refactorization of the code:"
   ]
  },
  {
   "cell_type": "code",
   "execution_count": null,
   "metadata": {},
   "outputs": [],
   "source": [
    "def is_palindrome(s):\n",
    "    \n",
    "    p = True\n",
    "    for i in range(len(s)//2):\n",
    "        if s[i] != s[-i-1]:\n",
    "            p = False\n",
    "    \n",
    "    return p\n",
    "\n",
    "print(is_palindrome(\"cat\"))\n",
    "\n",
    "print(is_palindrome(\"kayak\"))\n",
    "\n",
    "print(is_palindrome(\"racecar\"))"
   ]
  },
  {
   "cell_type": "markdown",
   "metadata": {},
   "source": [
    "Not only is the code above shorter, but it's obvious what it does. We've abstracted away the details of how we're determining if a string is a palindrome, and encapsulated them in a function with a descriptive name. It's not necessary to know *how* we're determining if something is a palindrome. In this case, it's sufficient that we know what the function does and how to use it, but not necessarily how it works.\n",
    "\n",
    "In a cognitive experiment, you might write functions to display instructions, run trials, and save data. That means the code for the main portion of the experiment could look as simple as:\n",
    "\n",
    "<code>\n",
    "greet_participant()\n",
    "for i in range(number_of_trials):\n",
    "    reaction_time = run_trial(i)\n",
    "    save_data(trial, reaction_time)\n",
    "goodbye_participant()\n",
    "</code>\n",
    "\n",
    "Functions are incredibly important in large programs--they can turn hundreds or thousands lines of spaghetti code into something a human can read. For instance, the autograder for this course has 328 lines of code, and 9 functions. The course website (including upload form, etc.) is 237 lines of code with 10 functions.\n",
    "\n",
    "Aside: Lines of code is, in general, a poor metric of anything. Plenty of people have strong opinions on code style, and you'll likely develop your own. For this course, it would be good to follow \"The Zen of Python\":"
   ]
  },
  {
   "cell_type": "code",
   "execution_count": null,
   "metadata": {},
   "outputs": [],
   "source": [
    "import this"
   ]
  },
  {
   "cell_type": "markdown",
   "metadata": {},
   "source": [
    "### Example: Integer Exponentiation\n",
    "\n",
    "Write a Python function exp(x, y) that takes integer x and non-negative integer y and returns x \\*\\* y by successive multiplication, rather than using the operator for exponentiation."
   ]
  },
  {
   "cell_type": "code",
   "execution_count": null,
   "metadata": {},
   "outputs": [],
   "source": [
    "# Your code here."
   ]
  },
  {
   "cell_type": "code",
   "execution_count": null,
   "metadata": {},
   "outputs": [],
   "source": [
    "exp(7, 0) == 1"
   ]
  },
  {
   "cell_type": "code",
   "execution_count": null,
   "metadata": {},
   "outputs": [],
   "source": [
    "exp(7, 1) == 7"
   ]
  },
  {
   "cell_type": "code",
   "execution_count": null,
   "metadata": {},
   "outputs": [],
   "source": [
    "exp(16, 4) == 65536"
   ]
  },
  {
   "cell_type": "markdown",
   "metadata": {},
   "source": [
    "### In-Class Exercise 5\n",
    "\n",
    "Write a function `inclass5` that, given two integers x and y, determines if x is a multiple of y. It should return True if it is, and False otherwise."
   ]
  },
  {
   "cell_type": "code",
   "execution_count": null,
   "metadata": {},
   "outputs": [],
   "source": [
    "# Your code here"
   ]
  },
  {
   "cell_type": "code",
   "execution_count": null,
   "metadata": {},
   "outputs": [],
   "source": [
    "inclass5(6, 3) == True"
   ]
  },
  {
   "cell_type": "code",
   "execution_count": null,
   "metadata": {},
   "outputs": [],
   "source": [
    "inclass5(9, 7) == False"
   ]
  },
  {
   "cell_type": "markdown",
   "metadata": {},
   "source": [
    "### Example: When to Return a value\n",
    "\n",
    "Our original solution for finding prime numbers was terribly inefficient. For a number N, we checked every single number up to N to see if it was prime. Really, we should quit checking as soon as we find a number that evenly divides N.\n",
    "\n",
    "This means that our code takes over a million unnecessary steps when we check if 1,000,000 is a prime number--we only need to see that it's a multiple of 2 and quit."
   ]
  },
  {
   "cell_type": "code",
   "execution_count": null,
   "metadata": {},
   "outputs": [],
   "source": [
    "def isprime1(N):\n",
    "    \n",
    "    prime = True\n",
    "    \n",
    "    for i in range(2, N):\n",
    "        \n",
    "        if inclass5(N, i):\n",
    "            prime = False\n",
    "        \n",
    "    return prime\n",
    "\n",
    "def isprime2(N):\n",
    "       \n",
    "    for i in range(2, N):\n",
    "        \n",
    "        if inclass5(N, i):\n",
    "            return False  # return False as soon as we find a number that's a multiple of N.\n",
    "        \n",
    "    return True  # Only return True if we make it through all the values up to N."
   ]
  },
  {
   "cell_type": "code",
   "execution_count": null,
   "metadata": {},
   "outputs": [],
   "source": [
    "isprime1(2**25)  # This is 33,554,432. It's clearly not prime, but takes a while to determine."
   ]
  },
  {
   "cell_type": "code",
   "execution_count": null,
   "metadata": {},
   "outputs": [],
   "source": [
    "isprime2(2**200)  # This is 1,606,938,044,258,990,275,541,962,092,341,162,602,522,202,993,782,792,835,301,376.\n",
    "                  # We get our answer instantly because we don't check every possible number."
   ]
  },
  {
   "cell_type": "markdown",
   "metadata": {},
   "source": [
    "### Default Values in Functions\n",
    "\n",
    "Sometimes you want to write a function that *usually* behaves one way--for instance, when displaying instructions to the participant, let's say you want spacebar to be their \"next screen\" key. But if you want them to contact the experimenter, you could set a different key to be \"next\", so they don't accidentally skip ahead in the experiment."
   ]
  },
  {
   "cell_type": "code",
   "execution_count": null,
   "metadata": {},
   "outputs": [],
   "source": []
  },
  {
   "cell_type": "code",
   "execution_count": null,
   "metadata": {},
   "outputs": [],
   "source": [
    "example(5)"
   ]
  },
  {
   "cell_type": "code",
   "execution_count": null,
   "metadata": {},
   "outputs": [],
   "source": [
    "example(5, 3)"
   ]
  },
  {
   "cell_type": "markdown",
   "metadata": {},
   "source": [
    "### Aside: String Formatting\n",
    "\n",
    "Sometimes we want to substitute just one word in a given string. For instance, to give that personal touch to mass emails that begin with \"Hi NAME\". (Or, in an experiment, maybe to elicit an N400 wave)\n",
    "\n",
    "There are two ways to do this in Python. By simple addition:"
   ]
  },
  {
   "cell_type": "code",
   "execution_count": null,
   "metadata": {},
   "outputs": [],
   "source": []
  },
  {
   "cell_type": "markdown",
   "metadata": {},
   "source": [
    "Or by using the % operator:\n",
    "\n",
    "This takes everything after the % sign, and puts it where the %s is in the string:"
   ]
  },
  {
   "cell_type": "code",
   "execution_count": null,
   "metadata": {},
   "outputs": [],
   "source": []
  },
  {
   "cell_type": "markdown",
   "metadata": {},
   "source": [
    "With more words:"
   ]
  },
  {
   "cell_type": "code",
   "execution_count": null,
   "metadata": {},
   "outputs": [],
   "source": []
  },
  {
   "cell_type": "markdown",
   "metadata": {},
   "source": [
    "The \"%s\" just means \"put a string here. This has the added flexibility of automatically converting numbers to strings:"
   ]
  },
  {
   "cell_type": "code",
   "execution_count": null,
   "metadata": {},
   "outputs": [],
   "source": []
  },
  {
   "cell_type": "markdown",
   "metadata": {},
   "source": [
    "This is useful for formatting data output from experiments:"
   ]
  },
  {
   "cell_type": "code",
   "execution_count": null,
   "metadata": {},
   "outputs": [],
   "source": [
    "participant = 3\n",
    "trial = 13\n",
    "rt  = 756.98\n",
    "congruency = 'incongruent'\n",
    "accuracy = \"correct\"\n",
    "\n",
    "data = \"%s, %s, %s, %s, %s\" % (participant, trial, rt, congruency, accuracy)\n",
    "print(data)"
   ]
  },
  {
   "cell_type": "markdown",
   "metadata": {},
   "source": [
    "### Example: Mad Libs\n",
    "\n",
    "Write a function that completes the following mad lib:\n",
    "\n",
    "Please, **professor**, I can't **verb** any more! My **noun** is just too **adjective**!\n",
    "\n",
    "If no professor, verb, noun, or adjective is given, one should be selected at random from the below functions:"
   ]
  },
  {
   "cell_type": "code",
   "execution_count": null,
   "metadata": {},
   "outputs": [],
   "source": [
    "import random\n",
    "\n",
    "PROFS = [\"Judith Shedden\", \"David Shore\", \"Bruce Milliken\", \"Scott Watter\", \"Karin Humphreys\", \"Sue Becker\",\n",
    "         \"Joe Kim\", \"Paul Faure\", \"Paul Andrews\", \"Pat Bennett\", \"Allison Sekuler\"]\n",
    "\n",
    "VERBS = [\"write\", \"cry\", \"plagiarize\", \"code\", \"sleep\", \"self-loathe\", \"p-hack\"]\n",
    "\n",
    "NOUNS = [\"paper\", \"coffee\", \"ego\", \"supervisor\", \"thesis\", \"data\", \"experiment\"]\n",
    "\n",
    "ADJECTIVES = [\"destroyed\", \"depressed\", \"unfinished\", \"egotistical\", \"statistically insignificant\"]\n",
    "\n",
    "\n",
    "def random_prof():\n",
    "    return random.choice(PROFS)\n",
    "\n",
    "def random_verb():\n",
    "    return random.choice(VERBS)\n",
    "\n",
    "def random_noun():\n",
    "    return random.choice(NOUNS)\n",
    "\n",
    "def random_adjective():\n",
    "    return random.choice(ADJECTIVES)\n",
    "\n"
   ]
  },
  {
   "cell_type": "code",
   "execution_count": null,
   "metadata": {},
   "outputs": [],
   "source": []
  },
  {
   "cell_type": "code",
   "execution_count": null,
   "metadata": {},
   "outputs": [],
   "source": [
    "mad_libs(prof=\"\", verb=\"\")  # Put your supervisor's name here, and the most common thing they make you do."
   ]
  },
  {
   "cell_type": "code",
   "execution_count": null,
   "metadata": {},
   "outputs": [],
   "source": [
    "mad_libs()"
   ]
  }
 ],
 "metadata": {
  "kernelspec": {
   "display_name": "Python 3",
   "language": "python",
   "name": "python3"
  },
  "language_info": {
   "codemirror_mode": {
    "name": "ipython",
    "version": 3
   },
   "file_extension": ".py",
   "mimetype": "text/x-python",
   "name": "python",
   "nbconvert_exporter": "python",
   "pygments_lexer": "ipython3",
   "version": "3.6.4"
  }
 },
 "nbformat": 4,
 "nbformat_minor": 2
}
