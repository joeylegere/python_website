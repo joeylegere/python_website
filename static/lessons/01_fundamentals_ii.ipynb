{
 "cells": [
  {
   "cell_type": "markdown",
   "metadata": {},
   "source": [
    "## <center>PSYCH 712: Introduction to Python </center>\n",
    "## <center> Week 01: Fundamentals II</center>\n"
   ]
  },
  {
   "cell_type": "markdown",
   "metadata": {},
   "source": [
    "### Briefly: Integer Division\n",
    "\n",
    "Python has two division operators:\n",
    "<br>/ divides two numbers to the nearest decimal.\n",
    "<br>// divides two numbers to the nearest integer."
   ]
  },
  {
   "cell_type": "code",
   "execution_count": null,
   "metadata": {},
   "outputs": [],
   "source": [
    "5 / 3"
   ]
  },
  {
   "cell_type": "code",
   "execution_count": null,
   "metadata": {},
   "outputs": [],
   "source": [
    "5 // 3"
   ]
  },
  {
   "cell_type": "code",
   "execution_count": null,
   "metadata": {},
   "outputs": [],
   "source": [
    "6 // 3"
   ]
  },
  {
   "cell_type": "markdown",
   "metadata": {},
   "source": [
    "### Example: Converting Distances\n",
    "\n",
    "Write a program that, given a number of inches, converts to the number of yards, feet, and inches.\n",
    "\n",
    "There are 3 feet in a yard, and 12 inches in a foot. So 50 inches would be 1 yard, 1 foot and 2 inches."
   ]
  },
  {
   "cell_type": "code",
   "execution_count": null,
   "metadata": {},
   "outputs": [],
   "source": [
    "def inchesFeetYards(i):\n",
    "    \n",
    "    # Your code here.\n",
    "    \n",
    "    # Get the number of yards, then subtract the inches accounted for.\n",
    "    y = i // 36\n",
    "    i = i - y*36\n",
    "    \n",
    "    # Get the number of feet, and subtract the inches that they account for.\n",
    "    f = i // 12\n",
    "    i = i - f*12\n",
    "    \n",
    "    # i should now be the remaining number of inches\n",
    "    \n",
    "    \n",
    "    return (y, f, i)\n",
    "    \n",
    "    "
   ]
  },
  {
   "cell_type": "code",
   "execution_count": null,
   "metadata": {},
   "outputs": [],
   "source": [
    "inchesFeetYards(50) == (1, 1, 2)"
   ]
  },
  {
   "cell_type": "code",
   "execution_count": null,
   "metadata": {},
   "outputs": [],
   "source": [
    "inchesFeetYards(13) == (0, 1, 1)"
   ]
  },
  {
   "cell_type": "code",
   "execution_count": null,
   "metadata": {},
   "outputs": [],
   "source": [
    "inchesFeetYards(9) == (0, 0, 9)"
   ]
  },
  {
   "cell_type": "markdown",
   "metadata": {},
   "source": [
    "## Boolean values\n",
    "\n",
    "So far we have encountered strings, integers, and floating point numbers. Booleans are another data type in Python. They're relatively straightforward: whereas an integer can be any whole number, a boolean value is either True or False, nothing more.\n"
   ]
  },
  {
   "cell_type": "code",
   "execution_count": null,
   "metadata": {},
   "outputs": [],
   "source": [
    "x = True  # one equals sign assigns a value"
   ]
  },
  {
   "cell_type": "code",
   "execution_count": null,
   "metadata": {},
   "outputs": [],
   "source": [
    "x == True  # double equals checks if two values are equivalent"
   ]
  },
  {
   "cell_type": "code",
   "execution_count": null,
   "metadata": {},
   "outputs": [],
   "source": [
    "y = False  # y becomes \"False\""
   ]
  },
  {
   "cell_type": "code",
   "execution_count": null,
   "metadata": {},
   "outputs": [],
   "source": [
    "y == True  # Does y equal True?"
   ]
  },
  {
   "cell_type": "code",
   "execution_count": null,
   "metadata": {},
   "outputs": [],
   "source": [
    "y == False  # Does y equal False?"
   ]
  },
  {
   "cell_type": "markdown",
   "metadata": {},
   "source": [
    "The key point here is that we use a single equals sign for *assignment*, and two equals signs for *equivalence testing*. These operations don't just apply to boolean variables:"
   ]
  },
  {
   "cell_type": "code",
   "execution_count": null,
   "metadata": {},
   "outputs": [],
   "source": [
    "x = \"cat\"  # x becomes \"cat\""
   ]
  },
  {
   "cell_type": "code",
   "execution_count": null,
   "metadata": {},
   "outputs": [],
   "source": [
    "x == \"dog\"  # Does x equal \"dog\"?"
   ]
  },
  {
   "cell_type": "code",
   "execution_count": null,
   "metadata": {},
   "outputs": [],
   "source": [
    "x == \"cat\"  # Does x equal \"cat\"?"
   ]
  },
  {
   "cell_type": "code",
   "execution_count": null,
   "metadata": {},
   "outputs": [],
   "source": [
    "x == 3"
   ]
  },
  {
   "cell_type": "markdown",
   "metadata": {},
   "source": [
    "We can also get a boolean value by testing whether values are larger/smaller than each other, or not equivalent:"
   ]
  },
  {
   "cell_type": "code",
   "execution_count": null,
   "metadata": {},
   "outputs": [],
   "source": [
    "x = 5\n",
    "y = 3"
   ]
  },
  {
   "cell_type": "code",
   "execution_count": null,
   "metadata": {},
   "outputs": [],
   "source": [
    "x > y"
   ]
  },
  {
   "cell_type": "code",
   "execution_count": null,
   "metadata": {},
   "outputs": [],
   "source": [
    "x < y"
   ]
  },
  {
   "cell_type": "code",
   "execution_count": null,
   "metadata": {},
   "outputs": [],
   "source": [
    "x = 5\n",
    "y = 5"
   ]
  },
  {
   "cell_type": "code",
   "execution_count": null,
   "metadata": {},
   "outputs": [],
   "source": [
    "x > y  # greater than?"
   ]
  },
  {
   "cell_type": "code",
   "execution_count": null,
   "metadata": {},
   "outputs": [],
   "source": [
    "x < y  # less than?"
   ]
  },
  {
   "cell_type": "code",
   "execution_count": null,
   "metadata": {},
   "outputs": [],
   "source": [
    "x >= y  # greater than or equal to?"
   ]
  },
  {
   "cell_type": "code",
   "execution_count": null,
   "metadata": {},
   "outputs": [],
   "source": [
    "x <= y  # less than or equal to?"
   ]
  },
  {
   "cell_type": "code",
   "execution_count": null,
   "metadata": {},
   "outputs": [],
   "source": [
    "x != 5  # does x not equal 5?"
   ]
  },
  {
   "cell_type": "code",
   "execution_count": null,
   "metadata": {},
   "outputs": [],
   "source": [
    "x != \"cat\"  # does x not equal \"cat\"?"
   ]
  },
  {
   "cell_type": "markdown",
   "metadata": {},
   "source": [
    "It's also possible to combine boolean expressions using the *and* and *or* operators. They behave more or less as you would expect them to in English:"
   ]
  },
  {
   "cell_type": "code",
   "execution_count": null,
   "metadata": {},
   "outputs": [],
   "source": [
    "x = 5\n",
    "y = -6"
   ]
  },
  {
   "cell_type": "code",
   "execution_count": null,
   "metadata": {},
   "outputs": [],
   "source": [
    "(x > 0) and (y > 0)"
   ]
  },
  {
   "cell_type": "code",
   "execution_count": null,
   "metadata": {},
   "outputs": [],
   "source": [
    "(x > 0) or (y > 0)"
   ]
  },
  {
   "cell_type": "markdown",
   "metadata": {},
   "source": [
    "### If statements\n",
    "Often we want our programs to different things depending on the data we have, or what the user is doing.\n",
    "\n",
    "For instance, we might want to measure a participants discrimination threshhold in an adaptive staircase paradigm: if the participant is doing well, we could decrease the contrast of the stimulus, and if they make an error, increase its contrast.\n",
    "\n",
    "We can accomplish this sort of control very easily with if statements, which take in a boolean test, and do something different depending on if it's True or False:"
   ]
  },
  {
   "cell_type": "code",
   "execution_count": null,
   "metadata": {},
   "outputs": [],
   "source": [
    "x = 1  # Try changing the value of x and seeing how the output changes\n",
    "\n",
    "if x > 0:\n",
    "    print(\"x is a positive number\")\n",
    "\n",
    "if x < 0:\n",
    "    print(\"x is a negative number\")"
   ]
  },
  {
   "cell_type": "markdown",
   "metadata": {
    "collapsed": true
   },
   "source": [
    "### Example: Absolute value\n",
    "\n",
    "Write code that returns the absolute value of x."
   ]
  },
  {
   "cell_type": "code",
   "execution_count": null,
   "metadata": {},
   "outputs": [],
   "source": [
    "def absolute(x):\n",
    "    \n",
    "    # Your code here.\n",
    "    \n",
    "    if x < 0:\n",
    "        x = x * -1\n",
    "    \n",
    "    return x\n"
   ]
  },
  {
   "cell_type": "code",
   "execution_count": null,
   "metadata": {},
   "outputs": [],
   "source": [
    "absolute(3) == 3"
   ]
  },
  {
   "cell_type": "code",
   "execution_count": null,
   "metadata": {},
   "outputs": [],
   "source": [
    "absolute(-5) == 5"
   ]
  },
  {
   "cell_type": "code",
   "execution_count": null,
   "metadata": {},
   "outputs": [],
   "source": [
    "absolute(0) == 0"
   ]
  },
  {
   "cell_type": "markdown",
   "metadata": {},
   "source": [
    "### Example: Special Days\n",
    "The date February 8th, 2016 is fun because when you write it as 2/8/16, the month times the day equals the year.\n",
    "\n",
    "Write a program that, given a day, month, and year, determines if that date is special."
   ]
  },
  {
   "cell_type": "code",
   "execution_count": null,
   "metadata": {},
   "outputs": [],
   "source": [
    "def special(day, month, year):\n",
    "    \n",
    "    # Your code here.\n",
    "    \n",
    "    if day * month == year:\n",
    "        \n",
    "        s = \"special\"\n",
    "    \n",
    "    if day * month != year:\n",
    "        \n",
    "        s = \"not special\"\n",
    "    \n",
    "    \n",
    "    return s"
   ]
  },
  {
   "cell_type": "code",
   "execution_count": null,
   "metadata": {},
   "outputs": [],
   "source": [
    "special(2,8,16) == \"special\""
   ]
  },
  {
   "cell_type": "code",
   "execution_count": null,
   "metadata": {},
   "outputs": [],
   "source": [
    "special(1,10,91) == \"not special\""
   ]
  },
  {
   "cell_type": "code",
   "execution_count": null,
   "metadata": {},
   "outputs": [],
   "source": [
    "special(5, 3, 15) == \"special\""
   ]
  },
  {
   "cell_type": "markdown",
   "metadata": {},
   "source": [
    "### Example: Primary Colours\n",
    "\n",
    "When you mix two primary colours, you get a secondary colour as follows:\n",
    "<br> red + yellow  = orange\n",
    "<br> red + blue    = purple\n",
    "<br> blue + yellow = green\n",
    "\n",
    "Write a program that, given two primary colours, determines the secondary colour\n"
   ]
  },
  {
   "cell_type": "code",
   "execution_count": null,
   "metadata": {},
   "outputs": [],
   "source": [
    "def colors(c1, c2):\n",
    "    \n",
    "    # Your code here.\n",
    "    \n",
    "    if (c1 == 'red' and c2 == 'yellow') or (c1 == 'yellow' and c2 == 'red'):\n",
    "        color = \"orange\"\n",
    "    \n",
    "    if (c1 == \"red\" and c2 == \"blue\") or (c1 == \"blue\" and c2 == \"red\"):\n",
    "        color = \"purple\"\n",
    "        \n",
    "    if (c1 == \"blue\" and c2 == \"yellow\") or (c1 == \"yellow\" and c2 == \"blue\"):\n",
    "        color = \"green\"\n",
    "        \n",
    "    \n",
    "    return color"
   ]
  },
  {
   "cell_type": "code",
   "execution_count": null,
   "metadata": {},
   "outputs": [],
   "source": [
    "colors(\"red\", \"yellow\") == \"orange\""
   ]
  },
  {
   "cell_type": "code",
   "execution_count": null,
   "metadata": {},
   "outputs": [],
   "source": [
    "colors(\"yellow\", \"red\") == \"orange\""
   ]
  },
  {
   "cell_type": "code",
   "execution_count": null,
   "metadata": {},
   "outputs": [],
   "source": [
    "colors(\"blue\", \"yellow\") == \"green\""
   ]
  },
  {
   "cell_type": "markdown",
   "metadata": {},
   "source": [
    "### In-Class Exercise 1\n",
    "\n",
    "Write code that, given three numbers: x, y, and z, determines the maximum number."
   ]
  },
  {
   "cell_type": "code",
   "execution_count": null,
   "metadata": {},
   "outputs": [],
   "source": [
    "def inclass1(x, y, z):\n",
    "    \n",
    "    # Your code here.\n",
    "    \n",
    "    if x >= y and x >= z:\n",
    "        maxnum = x\n",
    "    \n",
    "    if y >= x and y >= z:\n",
    "        maxnum = y\n",
    "    \n",
    "    if z >= x and z >= y:\n",
    "        maxnum = z\n",
    "    \n",
    "    \n",
    "    return maxnum"
   ]
  },
  {
   "cell_type": "code",
   "execution_count": null,
   "metadata": {},
   "outputs": [],
   "source": [
    "inclass1(1,2,3) == 3"
   ]
  },
  {
   "cell_type": "code",
   "execution_count": null,
   "metadata": {},
   "outputs": [],
   "source": [
    "inclass1(5,4,3) == 5"
   ]
  },
  {
   "cell_type": "code",
   "execution_count": null,
   "metadata": {},
   "outputs": [],
   "source": [
    "inclass1(10,13,12) == 13"
   ]
  },
  {
   "cell_type": "code",
   "execution_count": null,
   "metadata": {},
   "outputs": [],
   "source": [
    "inclass1(10,10,10) == 10  # In order to pass this test, you need >=, not >"
   ]
  },
  {
   "cell_type": "markdown",
   "metadata": {},
   "source": [
    "### Multiple conditions: if, elif, else\n",
    "\n",
    "Sometimes we want to check multiple conditions that are mutually exclusive. Consider greeting someone based on the time of day. \n",
    "<br>Consider the scenario:\n",
    "<br>If it's before 11:00, say \"good morning\". If it's after 11:00 but before 17:00, say \"good afternoon\". If it's later than that, say \"good evening\"\n",
    "\n",
    "A naive approach would be to do something like this:"
   ]
  },
  {
   "cell_type": "code",
   "execution_count": null,
   "metadata": {},
   "outputs": [],
   "source": [
    "def greet(t):\n",
    "    \n",
    "    if t < 11:\n",
    "        greeting = \"good morning\"\n",
    "    if t < 17:\n",
    "        greeting = \"good afternoon\"\n",
    "    if t > 17:\n",
    "        greeting = \"good evening\"\n",
    "    \n",
    "    return greeting"
   ]
  },
  {
   "cell_type": "code",
   "execution_count": null,
   "metadata": {},
   "outputs": [],
   "source": [
    "greet(18)"
   ]
  },
  {
   "cell_type": "code",
   "execution_count": null,
   "metadata": {},
   "outputs": [],
   "source": [
    "greet(14)"
   ]
  },
  {
   "cell_type": "code",
   "execution_count": null,
   "metadata": {},
   "outputs": [],
   "source": [
    "greet(10)"
   ]
  },
  {
   "cell_type": "markdown",
   "metadata": {},
   "source": [
    "When t = 10, we should see \"good morning\", but instead, we see \"good afternoon\".\n",
    "This is because the statements are checked in order:\n",
    "<br>First, is t < 11? Yes, so greeting = \"good morning\"\n",
    "<br>Next, is t < 17? Yes, so greeting = \"good afternoon\". This line will always happen, because if the number is smaller than 11, it's always smaller than 17.\n",
    "\n",
    "### Solution: Using elif statements:"
   ]
  },
  {
   "cell_type": "raw",
   "metadata": {},
   "source": [
    "The general syntax of if-elif-else looks like this:\n",
    "\n",
    "if condition1:\n",
    "    block of code to be executed if condition1 is True\n",
    "    \n",
    "elif condition2:\n",
    "    block of code to be executed if condition1 is False and condition2 is True\n",
    "    \n",
    "else:\n",
    "    block of code to be executed if condition1 is False and condition2 is False"
   ]
  },
  {
   "cell_type": "code",
   "execution_count": null,
   "metadata": {},
   "outputs": [],
   "source": [
    "def greet2(t):\n",
    "    \n",
    "    if t < 11:\n",
    "        greeting = \"good morning\"\n",
    "    elif t < 17:\n",
    "        greeting = \"good afternoon\"\n",
    "    else:\n",
    "        greeting = \"good evening\"\n",
    "    \n",
    "    return greeting"
   ]
  },
  {
   "cell_type": "code",
   "execution_count": null,
   "metadata": {},
   "outputs": [],
   "source": [
    "greet2(18)"
   ]
  },
  {
   "cell_type": "code",
   "execution_count": null,
   "metadata": {},
   "outputs": [],
   "source": [
    "greet2(14)"
   ]
  },
  {
   "cell_type": "code",
   "execution_count": null,
   "metadata": {},
   "outputs": [],
   "source": [
    "greet2(10)"
   ]
  },
  {
   "cell_type": "markdown",
   "metadata": {},
   "source": [
    "### Example: Overtime Pay\n",
    "\n",
    "Apparently, out in the \"real world\", you get can paid overtime when you work over a 40-hour week.\n",
    "\n",
    "Assume you make time and a half for any hours worked above 40. Write a program that, given the number of hours worked, h, and the hourly wage, w, calculates the earnings for that week."
   ]
  },
  {
   "cell_type": "code",
   "execution_count": null,
   "metadata": {},
   "outputs": [],
   "source": [
    "def overtime(h, w):\n",
    "    \n",
    "    # Your code here.\n",
    "    \n",
    "    if h < 40:\n",
    "        pay = w * h\n",
    "    else:\n",
    "        pay = 40*w + (h - 40) * w * 1.5\n",
    "    \n",
    "    return pay"
   ]
  },
  {
   "cell_type": "code",
   "execution_count": null,
   "metadata": {},
   "outputs": [],
   "source": [
    "overtime(43, 15.00) == 667.5"
   ]
  },
  {
   "cell_type": "code",
   "execution_count": null,
   "metadata": {},
   "outputs": [],
   "source": [
    "overtime(40, 20.00) == 800.00"
   ]
  },
  {
   "cell_type": "code",
   "execution_count": null,
   "metadata": {},
   "outputs": [],
   "source": [
    "overtime(50, 20.00) == 1100.00"
   ]
  },
  {
   "cell_type": "markdown",
   "metadata": {},
   "source": [
    "### Example: Enhanced Unit Converter\n",
    "\n",
    "Write a program that converts kilograms to pounds, or pounds to kilograms, given:\n",
    "\n",
    "x: the number to be converted\n",
    "<br>s: The current units as a string: 'lb' or 'kg'\n",
    "\n",
    "1 kg = 2.2 lb"
   ]
  },
  {
   "cell_type": "code",
   "execution_count": null,
   "metadata": {},
   "outputs": [],
   "source": [
    "def converter(x, s):\n",
    "    \n",
    "    # Your code here.\n",
    "    \n",
    "    if s == 'lb':\n",
    "        y = x / 2.2\n",
    "    \n",
    "    elif s == 'kg':\n",
    "        y = x * 2.2\n",
    "    \n",
    "    else:\n",
    "        y = \"invalid input\"\n",
    "        \n",
    "    return y"
   ]
  },
  {
   "cell_type": "code",
   "execution_count": null,
   "metadata": {},
   "outputs": [],
   "source": [
    "converter(1, 'lb') == (1 / 2.2)"
   ]
  },
  {
   "cell_type": "code",
   "execution_count": null,
   "metadata": {},
   "outputs": [],
   "source": [
    "converter(120, 'kg') == 264"
   ]
  },
  {
   "cell_type": "code",
   "execution_count": null,
   "metadata": {},
   "outputs": [],
   "source": [
    "converter(100, 'KG') == 'invalid input'"
   ]
  },
  {
   "cell_type": "markdown",
   "metadata": {},
   "source": [
    "### In-Class Exercise 2\n",
    "\n",
    "Given a reaction time, write an if-elif-else chain that determines if the participant was too fast (< 200 ms), too slow (> 1000 ms), or good.\n",
    "Your feedback should be written exactly as shown in the test cases. eg. \"too fast\", all lowercase."
   ]
  },
  {
   "cell_type": "code",
   "execution_count": null,
   "metadata": {},
   "outputs": [],
   "source": [
    "def inclass2(rt):\n",
    "    \n",
    "    # Your code here.\n",
    "    if rt < 200:\n",
    "        feedback = \"too fast\"\n",
    "    elif rt > 1000:\n",
    "        feedback = \"too slow\"\n",
    "    else:\n",
    "        feedback = \"good\"\n",
    "    \n",
    "    return feedback"
   ]
  },
  {
   "cell_type": "code",
   "execution_count": null,
   "metadata": {},
   "outputs": [],
   "source": [
    "inclass2(1200) == \"too slow\""
   ]
  },
  {
   "cell_type": "code",
   "execution_count": null,
   "metadata": {},
   "outputs": [],
   "source": [
    "inclass2(100) == \"too fast\""
   ]
  },
  {
   "cell_type": "code",
   "execution_count": null,
   "metadata": {},
   "outputs": [],
   "source": [
    "inclass2(585) == \"good\""
   ]
  },
  {
   "cell_type": "markdown",
   "metadata": {},
   "source": [
    "## Modular Arithmetic\n",
    "\n",
    "It's often useful to know if one number is a multiple of another. For instance, in an EEG experiment we might want to give a blink break every 10 trials, or on trials 10, 20, 30, 40...\n",
    "\n",
    "We can do this using the 'mod' operator in Python, which gives the remainder when two numbers are divided:"
   ]
  },
  {
   "cell_type": "code",
   "execution_count": null,
   "metadata": {},
   "outputs": [],
   "source": [
    "1 % 3"
   ]
  },
  {
   "cell_type": "code",
   "execution_count": null,
   "metadata": {},
   "outputs": [],
   "source": [
    "2 % 3"
   ]
  },
  {
   "cell_type": "code",
   "execution_count": null,
   "metadata": {},
   "outputs": [],
   "source": [
    "3 % 3"
   ]
  },
  {
   "cell_type": "code",
   "execution_count": null,
   "metadata": {},
   "outputs": [],
   "source": [
    "4 % 3"
   ]
  },
  {
   "cell_type": "markdown",
   "metadata": {},
   "source": [
    "Notice the function \"wraps around\" every time we reach 3. This can also be used to convert from 24 to 12 hour time:"
   ]
  },
  {
   "cell_type": "code",
   "execution_count": null,
   "metadata": {},
   "outputs": [],
   "source": [
    "18 % 12"
   ]
  },
  {
   "cell_type": "markdown",
   "metadata": {},
   "source": [
    "### Example: Assigning Conditions to Participants\n",
    "\n",
    "Let's say you're running an experiment with 4 conditions: A, B, C, and D. Write a program that, given a participant number, returns their condition. Follow the pattern:\n",
    "<br>1: A\n",
    "<br>2: B\n",
    "<br>3: C\n",
    "<br>4: D\n",
    "<br>5: A\n",
    "..."
   ]
  },
  {
   "cell_type": "code",
   "execution_count": null,
   "metadata": {},
   "outputs": [],
   "source": [
    "def assigncond(sj):\n",
    "    \n",
    "    # Your code here.\n",
    "    if sj % 4 == 1:\n",
    "        cond = \"A\"\n",
    "    elif sj % 4 == 2:\n",
    "        cond = \"B\"\n",
    "    elif sj % 4 == 3:\n",
    "        cond = \"C\"\n",
    "    elif sj % 4 == 0:\n",
    "        cond = \"D\"\n",
    "    \n",
    "    return cond"
   ]
  },
  {
   "cell_type": "code",
   "execution_count": null,
   "metadata": {},
   "outputs": [],
   "source": [
    "assigncond(1) == \"A\""
   ]
  },
  {
   "cell_type": "code",
   "execution_count": null,
   "metadata": {},
   "outputs": [],
   "source": [
    "assigncond(3) == \"C\""
   ]
  },
  {
   "cell_type": "code",
   "execution_count": null,
   "metadata": {},
   "outputs": [],
   "source": [
    "assigncond(123) == \"C\""
   ]
  },
  {
   "cell_type": "markdown",
   "metadata": {},
   "source": [
    "### Example: Testing Prime Numbers\n",
    "\n",
    "A straightforward way to test if a number is prime is to check if it is a multiple of any number from 2 -> N - 1. If it's a multiple of any of them, it's not prime, otherwise, it is.\n",
    "\n",
    "Write a program that determines if N is a prime number by checking if it is a multiple of any number below it.\n",
    "\n"
   ]
  },
  {
   "cell_type": "code",
   "execution_count": null,
   "metadata": {},
   "outputs": [],
   "source": [
    "def isprime(N):\n",
    "    \n",
    "    # Your code here.\n",
    "    prime = True\n",
    "    \n",
    "    for i in range(2, N, 1):\n",
    "        \n",
    "        if N % i == 0:\n",
    "            prime = False\n",
    "    \n",
    "    return prime"
   ]
  },
  {
   "cell_type": "code",
   "execution_count": null,
   "metadata": {},
   "outputs": [],
   "source": [
    "isprime(2) == True"
   ]
  },
  {
   "cell_type": "code",
   "execution_count": null,
   "metadata": {},
   "outputs": [],
   "source": [
    "isprime(4) == False"
   ]
  },
  {
   "cell_type": "code",
   "execution_count": null,
   "metadata": {},
   "outputs": [],
   "source": [
    "isprime(7) == True"
   ]
  },
  {
   "cell_type": "code",
   "execution_count": null,
   "metadata": {},
   "outputs": [],
   "source": [
    "isprime(65537) == True"
   ]
  },
  {
   "cell_type": "markdown",
   "metadata": {},
   "source": [
    "### Example: Leap Years\n",
    "A year is a leap year if it is divisible by 4, unless it is divisible by 100. However, if it is divisible by 400, then it is a leap year. So 1200, 1600, and 2000 are leap years, whereas 1300, 1400, 1500 are not."
   ]
  },
  {
   "cell_type": "code",
   "execution_count": null,
   "metadata": {},
   "outputs": [],
   "source": [
    "def leapyear(yr):\n",
    "    \n",
    "    # Your code here.\n",
    "    if yr % 4 == 0 and yr % 100 != 0:\n",
    "        is_leap_year = True\n",
    "    \n",
    "    elif yr % 400 == 0:\n",
    "        is_leap_year = True\n",
    "    \n",
    "    else:\n",
    "        is_leap_year = False        \n",
    "    \n",
    "    \n",
    "    return is_leap_year"
   ]
  },
  {
   "cell_type": "code",
   "execution_count": null,
   "metadata": {},
   "outputs": [],
   "source": [
    "leapyear(2100) == False"
   ]
  },
  {
   "cell_type": "code",
   "execution_count": null,
   "metadata": {},
   "outputs": [],
   "source": [
    "leapyear(1600) == True"
   ]
  },
  {
   "cell_type": "code",
   "execution_count": null,
   "metadata": {},
   "outputs": [],
   "source": [
    "leapyear(2016) == True"
   ]
  },
  {
   "cell_type": "code",
   "execution_count": null,
   "metadata": {},
   "outputs": [],
   "source": [
    "leapyear(2017) == False"
   ]
  },
  {
   "cell_type": "markdown",
   "metadata": {},
   "source": [
    "### In-Class Exercise (Ungraded)\n",
    "FizzBuzz: For every number up to N, print out:\n",
    "\n",
    "\"Fizz\" if the number is a multiple of 3\n",
    "<br>\"Buzz\" if the number is a multiple of 5\n",
    "<br>\"FizzBuzz\" if the number is a multiple of 3 and a multiple of 5\n",
    "<br>The number, otherwise.\n"
   ]
  },
  {
   "cell_type": "code",
   "execution_count": null,
   "metadata": {},
   "outputs": [],
   "source": [
    "def fizzbuzz(N):\n",
    "    \n",
    "    # Your code here.\n",
    "    \n",
    "    for i in range(1, N+1):\n",
    "        \n",
    "        if i % 5 == 0 and i % 3 == 0:\n",
    "            print(\"FizzBuzz\")\n",
    "        \n",
    "        elif i % 3 == 0:\n",
    "            print(\"Fizz\")\n",
    "        \n",
    "        elif i % 5 == 0:\n",
    "            print(\"Buzz\")\n",
    "        \n",
    "        else:\n",
    "            print(i)"
   ]
  },
  {
   "cell_type": "code",
   "execution_count": null,
   "metadata": {},
   "outputs": [],
   "source": [
    "fizzbuzz(20)"
   ]
  },
  {
   "cell_type": "raw",
   "metadata": {},
   "source": [
    "The above should look like this:\n",
    "\n",
    "1\n",
    "2\n",
    "Fizz\n",
    "4\n",
    "Buzz\n",
    "Fizz\n",
    "7\n",
    "8\n",
    "Fizz\n",
    "Buzz\n",
    "11\n",
    "Fizz\n",
    "13\n",
    "14\n",
    "FizzBuzz\n",
    "16\n",
    "17\n",
    "Fizz\n",
    "19\n",
    "Buzz"
   ]
  }
 ],
 "metadata": {
  "kernelspec": {
   "display_name": "Python 3",
   "language": "python",
   "name": "python3"
  },
  "language_info": {
   "codemirror_mode": {
    "name": "ipython",
    "version": 3
   },
   "file_extension": ".py",
   "mimetype": "text/x-python",
   "name": "python",
   "nbconvert_exporter": "python",
   "pygments_lexer": "ipython3",
   "version": "3.5.2"
  }
 },
 "nbformat": 4,
 "nbformat_minor": 2
}
