{
 "cells": [
  {
   "cell_type": "markdown",
   "metadata": {},
   "source": [
    "# PSYCH 712/713: Introduction to Python, Spring 2017\n",
    "## Jupyter Installation Guide\n",
    "\n",
    "<ol>\n",
    "<li> Download and install Python 3.6 from https://www.python.org/downloads/<br>\n",
    "<b>Note to Windows users: Make sure you select \"add Python to PATH\" when installing</b>\n",
    "<li> Open a terminal:\n",
    "    <ul>\n",
    "        <li> Windows: Open <b>cmd.exe</b>\n",
    "        <li> Mac: Use spotlight, search for <b>terminal</b>\n",
    "     </ul>\n",
    "<li> From your terminal, type:\n",
    "<ul>\n",
    "    <li>pip3 install jupyter\n",
    "</ul>\n",
    "\n",
    "<li> Once it's finished, test that it installed correctly by executing:\n",
    "<ul><li>jupyter notebook</ul>\n",
    "</ol>\n",
    "<br>\n",
    "This should open the web interface in your browser, which should look something like this:<br>\n",
    "<img src=\"img/jupyter_example.png\">\n",
    "\n",
    "You should use either Firefox or Google Chrome as your web browser; there may be compatibility issues with Internet Explorer or Edge.<br>\n",
    "To test that Jupyter is working, select \"Python 3\" under \"new\" from the top right. You can try typing some code here, then press ctrl+enter to run it (or click on Cell > Run Cells). You should be able to produce something that looks like this:\n",
    "\n",
    "<img src=\"img/jupyter_hello.png\">\n",
    "\n",
    "<br>You may also try to open a .ipynb file downloaded from the course website.\n"
   ]
  }
 ],
 "metadata": {
  "kernelspec": {
   "display_name": "Python 3",
   "language": "python",
   "name": "python3"
  },
  "language_info": {
   "codemirror_mode": {
    "name": "ipython",
    "version": 3
   },
   "file_extension": ".py",
   "mimetype": "text/x-python",
   "name": "python",
   "nbconvert_exporter": "python",
   "pygments_lexer": "ipython3",
   "version": "3.5.3"
  }
 },
 "nbformat": 4,
 "nbformat_minor": 2
}
