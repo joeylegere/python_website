{
 "cells": [
  {
   "cell_type": "markdown",
   "metadata": {},
   "source": [
    "## <center>PSYCH 712: Introduction to Python </center>\n",
    "## <center> Week 01: Fundamentals I</center>\n",
    "\n",
    "This is a Jupyter notebook, which we will be using as the primary software for the class.\n",
    "\n",
    "Jupyter notebooks allow you to display, edit, and run Python code using a web interface that is organized into blocks of text and code called \"cells\". This text is written in a \"Markdown\" cell, which allows for <b><i>stylized text</i></b> and embedded equations: $$ \\Sigma_{i=0}^N i = \\frac{N(N+1)}{2} $$\n",
    "\n",
    "Markdown cells will be used to describe <i>code</i> cells, like the one below:"
   ]
  },
  {
   "cell_type": "code",
   "execution_count": null,
   "metadata": {},
   "outputs": [],
   "source": [
    "print(\"Hello world\")"
   ]
  },
  {
   "cell_type": "markdown",
   "metadata": {},
   "source": [
    "Try running the above cell (highlight it, and press shift+enter). The \"print\" statement is one of the most basic ones in Python--it just displays text on the screen. Try changing what's in the code cell and re-run it to see how the output changes. The print command will display whatever is inside the brackets that are immediately to its right, but nothing else. Try writing something outside the brackets and see what happens.\n",
    "\n",
    "\n",
    "The quotes around \"Hello world\" are important. They specify that we want to print out the <b>string</b> Hello world, not something else.<br>\n",
    "A <b>string</b> is just a sequence of characters. \"Cat\" is a string, so is \"The cat\", or \"The cat & the dog\". This is one of the data types in Python.<br>\n",
    "Another type is the <b>integer</b>. These are just whole numbers with no decimal places. Use the code cell below to see how they behave differently.\n"
   ]
  },
  {
   "cell_type": "code",
   "execution_count": null,
   "metadata": {},
   "outputs": [],
   "source": []
  },
  {
   "cell_type": "markdown",
   "metadata": {},
   "source": [
    "Here you can see the <b>+</b> operation works differently with different types of data. Given two numbers, it will add them, but given two strings, it will concatenate them, or stick them together.\n",
    "See what happens when you try to mix data types:"
   ]
  },
  {
   "cell_type": "code",
   "execution_count": null,
   "metadata": {},
   "outputs": [],
   "source": []
  },
  {
   "cell_type": "markdown",
   "metadata": {},
   "source": [
    "Here's our first error message. You'll have to get used to reading these; there's no such thing as bug-free code. Understanding error messages is imperative to being able to resolve problems in your code.<br>\n",
    "This error message is:<br>\n",
    "\"unspported operand types for +: 'int' and 'str'<br>\n",
    "This means that the addition operation cannot be performed on a integer and a string--or in plain English, \"three plus cat\" isn't a valid mathematical operation.<br>\n",
    "\n",
    "However, some operators, like multiplication, will work when you mix strings and numbers:"
   ]
  },
  {
   "cell_type": "code",
   "execution_count": null,
   "metadata": {},
   "outputs": [],
   "source": []
  },
  {
   "cell_type": "markdown",
   "metadata": {},
   "source": [
    "## Variables\n",
    "So far we've only been printing one thing at a time--oftne, we want our programs to be able to hold multiple pieces of data at once. We do this by storing data in <b>variables</b> which are just containers to store information. Variables are assigned using the <b>=</b> operator.\n",
    "<br>In plain English, you can read this as the word \"becomes\". In the example below, in the first line \"x\" <i>becomes</i> 3. So if we say \"x\" later, we mean the number three.\n",
    "<br> Variable types are not static. If z is the integer 36, we can change it to \"cat\" at any point in our program. (This is not true in many other programming languages, this is what it means to say that Python is \"dynamically typed\")."
   ]
  },
  {
   "cell_type": "code",
   "execution_count": null,
   "metadata": {},
   "outputs": [],
   "source": []
  },
  {
   "cell_type": "markdown",
   "metadata": {},
   "source": [
    "Expressions with variables are different from mathematical statements. For instance, the equation $ x = x + 3 $ is impossible in math (no number can be 3 more than itself). In Python, this syntax can be used to update the value of a variable:"
   ]
  },
  {
   "cell_type": "code",
   "execution_count": null,
   "metadata": {},
   "outputs": [],
   "source": []
  },
  {
   "cell_type": "markdown",
   "metadata": {},
   "source": [
    "### Example Question: Averaging exam scores\n",
    "This is how questions will look on assignments. There are some peculiarities that are for the autograder that you can ignore for now:<ul>\n",
    "<li> The line beginning with \"def\" defines a function. We will cover these later. For now, make sure the variables you work with are spelled exactly as they are here.\n",
    "<li> All of the code is indented. Make sure your code lines up exactly with the # in \"Your code here.\"\n",
    "<li> The \"return\" line--just make sure your \"answer\" variable is spelled exactly as it is in this line.\n",
    "<li> Comments: Any text following a \"#\" is not run as Python code. These comments can be used to annotate your code for when you look at it later.\n",
    "</ul>\n",
    "\n",
    "Write a program that takes in two exam scores as the variables s1 and s2, and produces their average as the variable \"avg\"."
   ]
  },
  {
   "cell_type": "code",
   "execution_count": null,
   "metadata": {},
   "outputs": [],
   "source": [
    "def avgExams(s1, s2): # make sure you spell the variables you're working with exactly as you see them here.\n",
    "    \n",
    "    # Your code here.\n",
    "    \n",
    "    return avg "
   ]
  },
  {
   "cell_type": "markdown",
   "metadata": {},
   "source": [
    "The cells below are \"test\" cells. You can use these to check that your answer is correct. Do not change any values in the cells, just try to run them. If your code passes that test, it should print \"True\", otherwise, it will say \"False\" or an error message.\n",
    "\n",
    "If you are getting Error messages, read them carefully from the bottom up--interpreting error messages is incredibly important in programming.\n",
    "\n",
    "If you are having trouble figuring out why your code is incorrect, you can add a print() statement before the return one--this will let you see the value that you're getting and help you to debug your code."
   ]
  },
  {
   "cell_type": "code",
   "execution_count": null,
   "metadata": {},
   "outputs": [],
   "source": [
    "avgExams(80,100) == 90"
   ]
  },
  {
   "cell_type": "code",
   "execution_count": null,
   "metadata": {},
   "outputs": [],
   "source": [
    "avgExams(70, 95) == 82.5"
   ]
  },
  {
   "cell_type": "code",
   "execution_count": null,
   "metadata": {},
   "outputs": [],
   "source": [
    "avgExams(90, 90) == 90"
   ]
  },
  {
   "cell_type": "markdown",
   "metadata": {},
   "source": [
    "### In-class exercise (ungraded)\n",
    "\n",
    "The program below should convert degrees Celsius to Fahrenheit. The equation for doing that is: $$ F = \\frac{9}{5} C + 32 $$"
   ]
  },
  {
   "cell_type": "code",
   "execution_count": null,
   "metadata": {},
   "outputs": [],
   "source": [
    "def inclass(c):\n",
    "    \n",
    "    # Your code here.\n",
    "    \n",
    "    return f"
   ]
  },
  {
   "cell_type": "code",
   "execution_count": null,
   "metadata": {},
   "outputs": [],
   "source": [
    "inclass(51) == 123.8"
   ]
  },
  {
   "cell_type": "code",
   "execution_count": null,
   "metadata": {},
   "outputs": [],
   "source": [
    "inclass(22.7) == 72.86"
   ]
  },
  {
   "cell_type": "code",
   "execution_count": null,
   "metadata": {},
   "outputs": [],
   "source": [
    "inclass(33.65) == 92.57"
   ]
  },
  {
   "cell_type": "markdown",
   "metadata": {},
   "source": [
    "### For Loops\n",
    "\n",
    "Loops are a way of making a block of code execute over and over again, until either a specific condition has been reached (e.g., time > 5 minutes, user typed \"exit\", etc.), or for a certain number of times.\n",
    "\n",
    "We're going to focus on loops that iterate a certain number of times--these can be used in experiments (use a loop to run X trials), to analyze data (loop from subject 1 to 100), or in the case of the autograder, to grade assignments (looping over files).\n",
    "\n",
    "#### Loop structure\n",
    "<ul>\n",
    "<li>for <VAR> in range(N):\n",
    "    <ul>\n",
    "    <li>N: Integer. Tells the loop how many times to run.\n",
    "    <li>VAR: Any empty variable. For now, this will be used to keep track of how many times the loop has run.\n",
    "    </ul>\n",
    "<li> Indented code. Anything that is indented below the loop is \"inside\" the loop.\n",
    "</ul>\n",
    "\n",
    "Note that in Python (and most programming languages), we start counting from 0. So range(5) is 0, 1, 2, 3, 4.\n"
   ]
  },
  {
   "cell_type": "code",
   "execution_count": null,
   "metadata": {},
   "outputs": [],
   "source": []
  },
  {
   "cell_type": "markdown",
   "metadata": {},
   "source": [
    "#### Alternative loop structure: range(min, max, step)"
   ]
  },
  {
   "cell_type": "code",
   "execution_count": null,
   "metadata": {},
   "outputs": [],
   "source": []
  },
  {
   "cell_type": "markdown",
   "metadata": {},
   "source": [
    "### Accumulators\n",
    "\n",
    "A common design programming is to use an *accumulator*. An accumulator is a variable that changes as we go through a loop. It may be used to calculate a running total, or to slowly build a list of items (as we'll see later).\n",
    "\n",
    "Use an accumulator to add up all the numbers from 1 to N.\n",
    "\n",
    "You may want to walk through the solution on [this website](http://pythontutor.com/visualize.html#mode=edit) to help understand each step.\n",
    "\n",
    "[Here](http://pythontutor.com/visualize.html#code=def%20accumulate%28N%29%3A%0A%20%20%20%20%0A%20%20%20%20%23%20Your%20code%20here.%0A%20%20%20%20%0A%20%20%20%20s%20%3D%200%0A%20%20%20%20%0A%20%20%20%20for%20i%20in%20range%28N%2B1%29%3A%0A%20%20%20%20%20%20%20%20s%20%3D%20s%20%2B%20i%0A%20%20%20%20%20%20%20%20%0A%20%20%20%20return%20s%0A%20%20%20%20%0Aaccumulate%283%29%20%20%20%20&cumulative=false&curInstr=0&heapPrimitives=false&mode=display&origin=opt-frontend.js&py=3&rawInputLstJSON=%5B%5D&textReferences=false) is the final solution on pythontutor."
   ]
  },
  {
   "cell_type": "code",
   "execution_count": null,
   "metadata": {},
   "outputs": [],
   "source": [
    "def accumulate(N):\n",
    "    \n",
    "    # Your code here.\n",
    "        \n",
    "    return s"
   ]
  },
  {
   "cell_type": "code",
   "execution_count": null,
   "metadata": {},
   "outputs": [],
   "source": [
    "accumulate(3) == 6"
   ]
  },
  {
   "cell_type": "code",
   "execution_count": null,
   "metadata": {},
   "outputs": [],
   "source": [
    "accumulate(20) == 210"
   ]
  },
  {
   "cell_type": "markdown",
   "metadata": {},
   "source": [
    "### Example: Compound Interest\n",
    "\n",
    "Let's say you invest $P$ dollars for $N$ years, compounded anually at rate $r$.\n",
    "<br> The amount, $A$, that you will have afterwards is given by the formula: $$ A = P(1 + \\frac{a}{100})^N$$\n",
    "\n",
    "Write a program that takes P, N, and r as inputs, and calculates the value of A <b>using a for loop</b>, not the exponentiation operator.\n",
    "<br> Assume that r is given as a percentage. So r = 5 means 5 percent, and you will need to conver it to 0.05."
   ]
  },
  {
   "cell_type": "code",
   "execution_count": null,
   "metadata": {},
   "outputs": [],
   "source": [
    "def compound(P, N, r):  # watch the capitalization of variables\n",
    "    \n",
    "    # Your code here.\n",
    "        \n",
    "    return P"
   ]
  },
  {
   "cell_type": "code",
   "execution_count": null,
   "metadata": {},
   "outputs": [],
   "source": [
    "compound(100, 0, 5) == 100"
   ]
  },
  {
   "cell_type": "code",
   "execution_count": null,
   "metadata": {},
   "outputs": [],
   "source": [
    "compound(100, 1, 5) == 105"
   ]
  },
  {
   "cell_type": "code",
   "execution_count": null,
   "metadata": {},
   "outputs": [],
   "source": [
    "compound(100, 2, 3) == 106.09"
   ]
  }
 ],
 "metadata": {
  "kernelspec": {
   "display_name": "Python 3",
   "language": "python",
   "name": "python3"
  },
  "language_info": {
   "codemirror_mode": {
    "name": "ipython",
    "version": 3
   },
   "file_extension": ".py",
   "mimetype": "text/x-python",
   "name": "python",
   "nbconvert_exporter": "python",
   "pygments_lexer": "ipython3",
   "version": "3.6.4"
  }
 },
 "nbformat": 4,
 "nbformat_minor": 2
}
