{
 "cells": [
  {
   "cell_type": "markdown",
   "metadata": {},
   "source": [
    "## PSYCH 711/712 Introduction to Python, Summer 2018\n",
    "### Assignment 1 Assigned Tuesday, May 29th, Due Tuesday, June 5 at 12:59 PM\n",
    "### Maximum grade: 25 / 20\n",
    "\n",
    "Your code will be entirely autograded. For this purpose, it's important that there are no syntax errors in your code. To check this, before submitting, click on Kernel > Restart & Run all at the top. No errors should appear, and your test cases should evaluate to True.\n",
    "\n",
    "If you pass all test cases you can be reasonably confident in your solution. Howevever, the test cases used while grading are different from those in the notebook. Obviously, if you simply set your solutions equal to the test cases given, you will receive no credit for that question."
   ]
  },
  {
   "cell_type": "markdown",
   "metadata": {},
   "source": [
    "### Question 1: Heron's Formula (4 points)\n",
    "\n",
    "[Heron's formula](https://en.wikipedia.org/wiki/Heron%27s_formula) calculates the area of a triangle using only its side lengths. \n",
    "\n",
    "$$A = \\sqrt{s(s-a)(s-b)(s-c)}$$\n",
    "\n",
    "Where $s$ is the semiperimeter of the triangle:\n",
    "\n",
    "$$ s = \\frac{a + b + c}{2} $$\n",
    "\n",
    "\n",
    "Given sides `a`, `b`, and `c`, use Heron's formula to calculate the area of the given triangle.\n",
    "\n",
    "Note: You will need to find out how to do square roots in Python. Much of programming is self-learning, so you consult either [the official documentation](https://docs.python.org/3/) or [your soon-to-be favourite website](https://stackoverflow.com/)\n"
   ]
  },
  {
   "cell_type": "code",
   "execution_count": null,
   "metadata": {},
   "outputs": [],
   "source": [
    "def heron(a, b, c):\n",
    "    \n",
    "    # Your code here.\n",
    "\n",
    "    return A"
   ]
  },
  {
   "cell_type": "code",
   "execution_count": null,
   "metadata": {},
   "outputs": [],
   "source": [
    "heron(3, 4, 5) == 6.0"
   ]
  },
  {
   "cell_type": "code",
   "execution_count": null,
   "metadata": {},
   "outputs": [],
   "source": [
    "heron(8, 5, 5) == 12"
   ]
  },
  {
   "cell_type": "code",
   "execution_count": null,
   "metadata": {},
   "outputs": [],
   "source": [
    "heron(15, 13, 4) == 24"
   ]
  },
  {
   "cell_type": "code",
   "execution_count": null,
   "metadata": {},
   "outputs": [],
   "source": [
    "heron(36, 60, 48)"
   ]
  },
  {
   "cell_type": "markdown",
   "metadata": {},
   "source": [
    "### Question 2: Finding Pi (4 points)\n",
    "\n",
    "The mathematical value of $\\pi$ can be approximated by an infinite series:\n",
    "\n",
    "$$ \\sum_{i=1}^{\\infty} \\frac{1}{i^2} = + \\frac{1}{1^2} + \\frac{1}{2^2} + \\frac{1}{3^2} + \\frac{1}{4^2} ... = \\frac{\\pi^2}{6}$$\n",
    "\n",
    "Write a program that, given a value $N$, calculates an estimate of $\\pi$ using the above formula using $N$ terms. (You will need to compute the sum first, then do some algebra to get your final answer)."
   ]
  },
  {
   "cell_type": "code",
   "execution_count": null,
   "metadata": {},
   "outputs": [],
   "source": [
    "def estimate_pi(N):\n",
    "    \n",
    "    # Your code here.\n",
    "        \n",
    "    return pi"
   ]
  },
  {
   "cell_type": "code",
   "execution_count": null,
   "metadata": {},
   "outputs": [],
   "source": [
    "estimate_pi(1) == 2.449489742783178"
   ]
  },
  {
   "cell_type": "code",
   "execution_count": null,
   "metadata": {},
   "outputs": [],
   "source": [
    "estimate_pi(5) == 2.9633877010385707"
   ]
  },
  {
   "cell_type": "code",
   "execution_count": null,
   "metadata": {},
   "outputs": [],
   "source": [
    "estimate_pi(7) == 3.011773947846214"
   ]
  },
  {
   "cell_type": "code",
   "execution_count": null,
   "metadata": {},
   "outputs": [],
   "source": [
    "estimate_pi(1000) == 3.1406380562059946"
   ]
  },
  {
   "cell_type": "markdown",
   "metadata": {},
   "source": [
    "### Question 3a: Wizarding Currencies I (4 points)\n",
    "\n",
    "In the wizarding world, money comes in three denominations: bronze Knuts, silver Sickles, and golden Galleons.\n",
    "\n",
    "29 Knuts make one Sickle, and 17 Sickles make one Galleon.\n",
    "\n",
    "Given a number of knuts, sickles, and galleons, write a function that calculates the total amount of knuts that the coins are worth all together."
   ]
  },
  {
   "cell_type": "code",
   "execution_count": null,
   "metadata": {},
   "outputs": [],
   "source": [
    "def knuts(k, s, g):\n",
    "    \n",
    "    # Your code here.\n",
    "    \n",
    "    return k"
   ]
  },
  {
   "cell_type": "code",
   "execution_count": null,
   "metadata": {},
   "outputs": [],
   "source": [
    "knuts(1, 1, 1) == 523"
   ]
  },
  {
   "cell_type": "code",
   "execution_count": null,
   "metadata": {},
   "outputs": [],
   "source": [
    "knuts(33, 10, 1) == 816"
   ]
  },
  {
   "cell_type": "markdown",
   "metadata": {},
   "source": [
    "### Question 3b: Wizarding Currencies II (3 points)\n",
    "Do the opposite of the above question: Given `k` knuts, convert the value to a number of knuts, sickles, and galleons (using the fewest coins possible. 60 Knuts is the same as 1 sickle and 31 knuts, but 2 sickles and 2 knuts would be more efficient)."
   ]
  },
  {
   "cell_type": "code",
   "execution_count": null,
   "metadata": {},
   "outputs": [],
   "source": [
    "def ksg(k):\n",
    "    \n",
    "    # Your code here.\n",
    "    \n",
    "    return (k, s, g)"
   ]
  },
  {
   "cell_type": "code",
   "execution_count": null,
   "metadata": {},
   "outputs": [],
   "source": [
    "ksg(523) == (1, 1, 1)"
   ]
  },
  {
   "cell_type": "code",
   "execution_count": null,
   "metadata": {},
   "outputs": [],
   "source": [
    "ksg(30) == (1, 1, 0)"
   ]
  },
  {
   "cell_type": "code",
   "execution_count": null,
   "metadata": {},
   "outputs": [],
   "source": [
    "ksg(60) == (2, 2, 0)"
   ]
  },
  {
   "cell_type": "code",
   "execution_count": null,
   "metadata": {},
   "outputs": [],
   "source": [
    "ksg(1234) == (16, 8, 2)"
   ]
  },
  {
   "cell_type": "markdown",
   "metadata": {},
   "source": [
    "### Question 3c: Wizarding Currencies III (3 points)\n",
    "\n",
    "Given the cost of an item as `cg`, `cs`, and `ck` (for the cost in galleons, sickles, and knuts respectively) and your current balance as `g`, `s`, and `k`, calculate the change you would receive if you bought the item. If you can't afford the item, don't make any changes--just leave `g`, `s`, and `k` untouched.\n",
    "\n",
    "Hint: One hidden test case one does **not** give coins in the most efficient manner possible (that is, you might have 58 knuts instead of two sickles)."
   ]
  },
  {
   "cell_type": "code",
   "execution_count": null,
   "metadata": {},
   "outputs": [],
   "source": [
    "def wizard_change(ck, cs, cg, k, s, g):\n",
    "    \n",
    "    # Your code here.\n",
    "    \n",
    "    return (k, s, g)\n",
    "    "
   ]
  },
  {
   "cell_type": "markdown",
   "metadata": {},
   "source": [
    "If we have 15 knuts and 10 sikcles, and we spend 1 knut and 5 sickles, then we should have 14 knuts and 5 sickles remaining:"
   ]
  },
  {
   "cell_type": "code",
   "execution_count": null,
   "metadata": {},
   "outputs": [],
   "source": [
    "wizard_change (33, 19, 1, 570, 39, 0)"
   ]
  },
  {
   "cell_type": "code",
   "execution_count": null,
   "metadata": {},
   "outputs": [],
   "source": [
    "wizard_change(1, 5, 0, 15, 10, 0) == (14, 5, 0)"
   ]
  },
  {
   "cell_type": "markdown",
   "metadata": {},
   "source": [
    "If we have one galleon, we should be able to buy something that costs one knut and receive 28 knuts and 16 sickles as change:"
   ]
  },
  {
   "cell_type": "code",
   "execution_count": null,
   "metadata": {},
   "outputs": [],
   "source": [
    "wizard_change(1, 0, 0, 0, 0, 1) == (28, 16, 0)"
   ]
  },
  {
   "cell_type": "markdown",
   "metadata": {},
   "source": [
    "If the item is too expensive, we can't buy it and so we do not change the number of knuts, sickles, and galleons that we have:"
   ]
  },
  {
   "cell_type": "code",
   "execution_count": null,
   "metadata": {},
   "outputs": [],
   "source": [
    "wizard_change(1, 23, 4, 2, 15, 3) == (2, 15, 3)"
   ]
  },
  {
   "cell_type": "markdown",
   "metadata": {},
   "source": [
    "In this case, the item costs 1 galleon, 8 sickles, and 22 knuts, but we are not carrying any galleons. However, we have 25 sickles and 53 knuts, so we can pay 24 sickles and 51 knuts (equivalent to 1 galleon, 8 sickles, and 22 knuts). So we would have 2 knuts and 1 sickle remaining.\n",
    "(there is one tricky test case like this in the autograder)."
   ]
  },
  {
   "cell_type": "code",
   "execution_count": null,
   "metadata": {},
   "outputs": [],
   "source": [
    "wizard_change(22, 8, 1, 53, 25, 0) == (2, 1, 0)"
   ]
  },
  {
   "cell_type": "markdown",
   "metadata": {},
   "source": [
    "### Question 4: Letter Grades (4 points)\n",
    "\n",
    "Write a function that takes in a numeric grade, and returns the corresponding letter grade. In our example, a score of 80 or above is an A, 70 or above is a B, 60 or above is a C, 50 or above is a D, and below 50 is an F."
   ]
  },
  {
   "cell_type": "code",
   "execution_count": null,
   "metadata": {},
   "outputs": [],
   "source": [
    "def letter_grade(score):\n",
    "    \n",
    "    # Your code here.\n",
    "    \n",
    "    return letter\n",
    "    "
   ]
  },
  {
   "cell_type": "code",
   "execution_count": null,
   "metadata": {},
   "outputs": [],
   "source": [
    "letter_grade(100) == \"A\""
   ]
  },
  {
   "cell_type": "code",
   "execution_count": null,
   "metadata": {},
   "outputs": [],
   "source": [
    "letter_grade(70) == \"B\""
   ]
  },
  {
   "cell_type": "code",
   "execution_count": null,
   "metadata": {},
   "outputs": [],
   "source": [
    "letter_grade(12) == \"F\" "
   ]
  },
  {
   "cell_type": "markdown",
   "metadata": {},
   "source": [
    "### Question 5: Modified FizzBuzz (3 points)\n",
    "\n",
    "Write a function that finds the sum of all numbers up to (and including) N that are multiples of either x or y.\n",
    "\n",
    "e.g. For:\n",
    "$$N = 10$$ $$x = 2$$ $$y = 3$$ $$s = 2 + 3 + 4 + 6 + 8 + 9 + 10 = 42$$"
   ]
  },
  {
   "cell_type": "code",
   "execution_count": null,
   "metadata": {},
   "outputs": [],
   "source": [
    "def specific_sum(N, x, y):\n",
    "    \n",
    "    # Your code here.\n",
    "    \n",
    "    return s"
   ]
  },
  {
   "cell_type": "code",
   "execution_count": null,
   "metadata": {},
   "outputs": [],
   "source": [
    "specific_sum(10, 2, 3) == 42"
   ]
  },
  {
   "cell_type": "code",
   "execution_count": null,
   "metadata": {},
   "outputs": [],
   "source": [
    "specific_sum(100, 15, 9) == 774"
   ]
  },
  {
   "cell_type": "code",
   "execution_count": null,
   "metadata": {},
   "outputs": [],
   "source": [
    "specific_sum(1234, 10, 10) == 76260"
   ]
  }
 ],
 "metadata": {
  "kernelspec": {
   "display_name": "Python 3",
   "language": "python",
   "name": "python3"
  },
  "language_info": {
   "codemirror_mode": {
    "name": "ipython",
    "version": 3
   },
   "file_extension": ".py",
   "mimetype": "text/x-python",
   "name": "python",
   "nbconvert_exporter": "python",
   "pygments_lexer": "ipython3",
   "version": "3.6.4"
  }
 },
 "nbformat": 4,
 "nbformat_minor": 2
}
